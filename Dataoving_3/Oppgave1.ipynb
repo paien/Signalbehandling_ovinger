{
 "cells": [
  {
   "cell_type": "markdown",
   "metadata": {
    "deletable": false,
    "editable": false,
    "nbgrader": {
     "cell_type": "markdown",
     "checksum": "235a301012d43869943d6eb6da16318d",
     "grade": false,
     "grade_id": "cell-9d8c911bf1767e69",
     "locked": true,
     "schema_version": 3,
     "solution": false,
     "task": false
    }
   },
   "source": [
    "<nav class=\"navbar navbar-default\">\n",
    "  <div class=\"container-fluid\">\n",
    "    <div class=\"navbar-header\">\n",
    "      <a class=\"navbar-brand\" href=\"_Dataoving3.ipynb\">Dataøving 3</a>\n",
    "    </div>\n",
    "    <ul class=\"nav navbar-nav\">\n",
    "        <li class=\"active\"><a href=\"Oppgave1.ipynb\">Oppgave1 - Digitale Signal og Diskrét Datarepresentasjon.</a></li>\n",
    "        <li><a href=\"Oppgave2.ipynb\">Oppgave 2 - Signalanalyse med DFT.</a></li>\n",
    "        <li><a href=\"Oppgave3.ipynb\">Oppgave 3 - Signalgenerasjon med IDFT.</a></li>\n",
    "        <li><a href=\"Oppgave4.ipynb\">Oppgave 4 - Reparasjon av lydsignal.</a></li>\n",
    "    </ul>\n",
    "  </div>\n",
    "</nav>\n",
    "\n",
    "# Digitale Signal og Diskrét Datarepresentasjon\n",
    "\n",
    "__Læringsmål:__\n",
    "* Håndtering av digitale signal med hensyn på samplenummer.\n",
    "* Forholdet mellom samplenummer og samplingstidspunkt.\n",
    "* Plotting av diskréte datasett.\n",
    "\n",
    "__Bibliotek og notebook-konfigurasjon:__"
   ]
  },
  {
   "cell_type": "code",
   "execution_count": null,
   "metadata": {},
   "outputs": [],
   "source": [
    "from numpy import sin, cos, pi, exp, arange, empty, append, mean, absolute, angle, linspace # Sentrale matematiske funksjoner\n",
    "import matplotlib.pyplot as plt\n",
    "\n",
    "%matplotlib notebook"
   ]
  },
  {
   "cell_type": "markdown",
   "metadata": {
    "deletable": false,
    "editable": false,
    "nbgrader": {
     "cell_type": "markdown",
     "checksum": "c5efbb878833a53af629fdea639a3cae",
     "grade": false,
     "grade_id": "cell-7e87a07a9aada219",
     "locked": true,
     "schema_version": 3,
     "solution": false,
     "task": false
    }
   },
   "source": [
    "__Introduksjon:__\n",
    "Hoveddelen av dette emnet vil vi arbeide med digitale signal, som er en såkalt tidsdiskrét utgave av et reelt analogt signal. Dette er en serie med målinger for tidspunktene $t = n\\cdot T_s, \\ \\ n \\in \\mathbb{Z}$ der $T_s$ er samplingsfrekvensen. Forholdet mellom et digitalt signal $x[n]$ og et analogt signal $x(t)$ er altså:\n",
    "$$ x[n] = x(n\\cdot T_s)$$\n",
    "\n",
    "Dersom vi ønsker å generere en digital sinus-sekvens $x[n]$ for en sinusbølge med frekvens $f = 100Hz$, og samplingsfrekvens $f_s = 2400Hz$, så blir uttrykket slik vist nedenfor, der den _digitale perioden_ $M$ er 24 sampler, noe som betyr at sinus-sekvensen gjentar seg selv etter 24 sampler.\n",
    "$$x[n] = \\cos\\left(2\\pi \\cdot 100 \\cdot n \\cdot T_s \\right) = \\cos \\left(2\\pi\\frac{100}{2400}\\cdot n \\right) = \\cos \\left(\\frac{\\pi}{12}\\cdot n \\right)$$\n",
    "De første 100 samplene i et slikt signal kan vi generere med koden nedenfor."
   ]
  },
  {
   "cell_type": "code",
   "execution_count": null,
   "metadata": {},
   "outputs": [],
   "source": [
    "f = 100         # Bølgefrekvens\n",
    "f_s = 2400      # Samplingsfrekvens\n",
    "N = 100         # Antall Sampler\n",
    "n = arange(N) # Samplenummer\n",
    "x = cos(2*pi*f/f_s*n) # Signal x[n]\n",
    "\n",
    "# Funksjonen Stem brukes til å lage et stolpediagram av signalet x[n]\n",
    "plt.stem(n, # Samplenummer\n",
    "         x, # Signalverdier gitt samplenummer (x[n])\n",
    "         linefmt='-', # Linjestil stolper\n",
    "         markerfmt='.', # Punktstil for stem-markere. Default er 'o' (stor prikk)\n",
    "         basefmt='grey', # Farge på y=0 aksen\n",
    "         use_line_collection=True # Hvordan stem skal håndtere dataene. Bruk alltid True.\n",
    "         )\n",
    "plt.xlabel(\"Samplenummer 'n'\")\n",
    "plt.ylabel(\"x[n]\")\n",
    "plt.xlim([0, N])\n",
    "plt.show()"
   ]
  },
  {
   "cell_type": "markdown",
   "metadata": {
    "deletable": false,
    "editable": false,
    "nbgrader": {
     "cell_type": "markdown",
     "checksum": "60b9451ee5f4208bd64ac61b7410e19c",
     "grade": false,
     "grade_id": "cell-faeaf14dfb6f1b69",
     "locked": true,
     "schema_version": 3,
     "solution": false,
     "task": false
    }
   },
   "source": [
    "## a)\n",
    "\n",
    "Et sinussignal med frekvens $f = 14 Hz$ samples med samplingfrekvens $f_s = 16Hz$, og vi ønsker å studere et utklipp med varighet lik $T=1s$. Lag en figur som viser et \"vanlig\" kontinuerlig plot av sinuskurven sammen med et stolpediagram som viser de 32 samplene som tas i løpet av 1 sekund."
   ]
  },
  {
   "cell_type": "code",
   "execution_count": null,
   "metadata": {
    "deletable": false,
    "nbgrader": {
     "cell_type": "code",
     "checksum": "bc83c65ff0d8d7ed2eb6a3201d0ca2f5",
     "grade": true,
     "grade_id": "cell-64e06493fcf50cb2",
     "locked": false,
     "points": 2,
     "schema_version": 3,
     "solution": true,
     "task": false
    }
   },
   "outputs": [],
   "source": [
    "# FYLL INN KODELØSNING HER:"
   ]
  },
  {
   "cell_type": "markdown",
   "metadata": {
    "deletable": false,
    "editable": false,
    "nbgrader": {
     "cell_type": "markdown",
     "checksum": "9aec8455e71df856e330a3093cb81493",
     "grade": false,
     "grade_id": "cell-8241f597c0980c3c",
     "locked": true,
     "points": 2,
     "schema_version": 3,
     "solution": false,
     "task": true
    }
   },
   "source": [
    "## b)\n",
    "Utvid koden i oppgave __a)__ slik at figuren _også_ viser bølgeformen til signalet som vil rekonstrueres med samplene som utgangspunkt."
   ]
  }
 ],
 "metadata": {
  "kernelspec": {
   "display_name": "Python 3",
   "language": "python",
   "name": "python3"
  },
  "language_info": {
   "codemirror_mode": {
    "name": "ipython",
    "version": 3
   },
   "file_extension": ".py",
   "mimetype": "text/x-python",
   "name": "python",
   "nbconvert_exporter": "python",
   "pygments_lexer": "ipython3",
   "version": "3.7.9"
  }
 },
 "nbformat": 4,
 "nbformat_minor": 4
}

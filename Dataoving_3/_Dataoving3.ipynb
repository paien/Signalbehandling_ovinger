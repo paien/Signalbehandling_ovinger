{
 "cells": [
  {
   "cell_type": "markdown",
   "metadata": {},
   "source": [
    "# Dataøving 3 - Frekvensanalyse av Digitale Signal\n",
    "\n",
    "Denne Dataøvingen omhandler Disret Fouriertransformasjon, og dets bruk i både analyse og manipulering av samplede signal.\n",
    "\n",
    "### Relevant lesestoff: \n",
    "- Kapittel 4 i boka DSP First\n",
    "- Delkapittel 8.1 - 8.6 i boka DSP First\n",
    "- Forelesningspresentasjoner fra uke _5 & 6_\n",
    "\n",
    "### Forarbeid:\n",
    "- Ta med hodetelefoner. Vi skal lytte til audiosignal i enkelte av oppgavene.\n",
    "\n",
    "### Introduksjon:\n",
    "I denne dataøvingen skal vi jobbe med Diskret Fouriertransformasjon (DFT) og Invers Diskret Fouriertransformasjon (IDFT). Dette er matematisk analyse som \"mapper\" et diskret signal i tidsplan til frekvensplan (DFT) eller fra frekvensplan til tidsplan (IDFT). Her er de matematiske uttrykkene for DFT og IDFT med N antall sampler:\n",
    "\n",
    "**DFT:**\n",
    "$$X[k] = \\sum_{n=0}^{N-1}x[n]\\cdot e^{-j2\\pi \\frac{k\\cdot n}{N}}$$\n",
    "\n",
    "**IDFT:**\n",
    "$$x[n] = \\frac{1}{N}\\sum_{k=0}^{N-1}X[k]\\cdot e^{j2\\pi \\frac{k\\cdot n}{N}}$$\n",
    "\n",
    "Til å utføre disse regneoperasjonene bruker vi funksjonene `numpy.fft.fft()` (Fast Fourier Transform), og `numpy.fft.ifft()` (Inverse Fast Fourier Transform).\n",
    "\n",
    "### Oppgaver:\n",
    "Oppgave | Tema \n",
    "--- | --- \n",
    "[Oppgave 1](Oppgave1.ipynb) | Digitale signal og diskrét datarepresentasjon\n",
    "[Oppgave 2](Oppgave2.ipynb) | Signalanalyse med DFT\n",
    "[Oppgave 3](Oppgave3.ipynb) | Signalgenerasjon med IDFT\n",
    "[Oppgave 4](Oppgave4.ipynb) | Reparsjon av Lydsignal"
   ]
  }
 ],
 "metadata": {
  "kernelspec": {
   "display_name": "Python 3",
   "language": "python",
   "name": "python3"
  },
  "language_info": {
   "codemirror_mode": {
    "name": "ipython",
    "version": 3
   },
   "file_extension": ".py",
   "mimetype": "text/x-python",
   "name": "python",
   "nbconvert_exporter": "python",
   "pygments_lexer": "ipython3",
   "version": "3.7.9"
  }
 },
 "nbformat": 4,
 "nbformat_minor": 4
}

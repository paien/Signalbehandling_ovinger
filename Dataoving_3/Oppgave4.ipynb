{
 "cells": [
  {
   "cell_type": "markdown",
   "metadata": {
    "deletable": false,
    "editable": false,
    "nbgrader": {
     "cell_type": "markdown",
     "checksum": "8dec6b8582b8e4d11540eccb86265e5d",
     "grade": false,
     "grade_id": "cell-7fca69c1d043778e",
     "locked": true,
     "schema_version": 3,
     "solution": false,
     "task": false
    }
   },
   "source": [
    "<nav class=\"navbar navbar-default\">\n",
    "  <div class=\"container-fluid\">\n",
    "    <div class=\"navbar-header\">\n",
    "      <a class=\"navbar-brand\" href=\"_Dataoving3.ipynb\">Dataøving 3</a>\n",
    "    </div>\n",
    "    <ul class=\"nav navbar-nav\">\n",
    "        <li><a href=\"Oppgave1.ipynb\">Oppgave1 - Digitale Signal og Diskrét Datarepresentasjon.</a></li>\n",
    "        <li><a href=\"Oppgave2.ipynb\">Oppgave 2 - Signalanalyse med DFT.</a></li>\n",
    "        <li><a href=\"Oppgave3.ipynb\">Oppgave 3 - Signalgenerasjon med IDFT.</a></li>\n",
    "        <li class=\"active\"><a href=\"Oppgave4.ipynb\">Oppgave 4 - Reparasjon av lydsignal.</a></li>\n",
    "    </ul>\n",
    "  </div>\n",
    "</nav>\n",
    "\n",
    "# Reparasjon av lydsignal\n",
    "\n",
    "__Læringsmål__:\n",
    "* Kunne tyde informasjon om et signal fra en Diskrét Fouriertransformasjon og bruke informasjonen videre til å manipulere et reelt signal.\n",
    "\n",
    "**Forarbeid:**\n",
    "* Ha hodetelefoner tilgjengelig\n",
    "\n",
    "__Bibliotek og notebook-konfigurasjon:__"
   ]
  },
  {
   "cell_type": "code",
   "execution_count": null,
   "metadata": {},
   "outputs": [],
   "source": [
    "from numpy import sin, cos, pi, exp, arange, empty, append, mean, absolute, angle, conj # Sentrale matematiske funksjoner\n",
    "from numpy.fft import fft, ifft             # DFT og IDFT\n",
    "import numpy as np                          # Importer funksjonalitet fra numpy biblioteket med prefiks \"np\"\n",
    "import matplotlib.pyplot as plt             # Importer pyplot modulen i matplotlib med prefiks \"plt\"\n",
    "from scipy.io import wavfile                # Lydfil I/O\n",
    "from funksjoner_data3 import timeSpectrumStem\n",
    "\n",
    "%matplotlib notebook"
   ]
  },
  {
   "cell_type": "markdown",
   "metadata": {
    "deletable": false,
    "editable": false,
    "nbgrader": {
     "cell_type": "markdown",
     "checksum": "9a14b73a87cf425912bf55a6044171a0",
     "grade": false,
     "grade_id": "cell-0461eec48749de53",
     "locked": true,
     "schema_version": 3,
     "solution": false,
     "task": false
    }
   },
   "source": [
    "**Manipulering av Lydsignal.**\n",
    "\n",
    "Vi skal nå bruke Python til å analysere et lydklipp bestående av tale som er forurenset med en pipetone. Målet med denne oppgaven er å bli kvitt pipetonen fra lydsignalet. Kodecellen nedenfor laster inn lydsignalet som et numpy ndarray `xn` med flyttall mellom -1,0 og 1,0. Dette er en liste med *alle* samplene i lydklippet. I tillegg henter vi også informasjon om samplingsfrekvensen til lydklippet i variabelen `fs`. "
   ]
  },
  {
   "cell_type": "code",
   "execution_count": null,
   "metadata": {},
   "outputs": [],
   "source": [
    "fs, data = wavfile.read(r'speech_w_tone.wav') # les audiofilen 'orca.wav' og lagre til variablene 'fs' og 'data'\n",
    "xn = data/0x7FFF"
   ]
  },
  {
   "cell_type": "markdown",
   "metadata": {
    "deletable": false,
    "editable": false,
    "nbgrader": {
     "cell_type": "markdown",
     "checksum": "149502b389671de118cddac4c7658001",
     "grade": false,
     "grade_id": "cell-dbb16689bd7b8fdb",
     "locked": true,
     "schema_version": 3,
     "solution": false,
     "task": false
    }
   },
   "source": [
    "## a)\n",
    "\n",
    "Ta i bruk det du har lært om fouriertransformasjon til å identifisere frekvensen til pipetonen. Her kan du ta i bruk både kode og grafisk analyse avhengig av hva som er ønskelig. Forklar hva du har gjort."
   ]
  },
  {
   "cell_type": "code",
   "execution_count": null,
   "metadata": {
    "deletable": false,
    "nbgrader": {
     "cell_type": "code",
     "checksum": "ae8e798bd03332db81034c66416da972",
     "grade": true,
     "grade_id": "cell-61d9333d7bb4131c",
     "locked": false,
     "points": 1,
     "schema_version": 3,
     "solution": true,
     "task": false
    }
   },
   "outputs": [],
   "source": [
    "# FYLL INN KODELØSNING HER:"
   ]
  },
  {
   "cell_type": "markdown",
   "metadata": {
    "deletable": false,
    "nbgrader": {
     "cell_type": "markdown",
     "checksum": "291c7d70653aab16ccdb13a1a4e5adbe",
     "grade": true,
     "grade_id": "cell-3341133518f74381",
     "locked": false,
     "points": 1,
     "schema_version": 3,
     "solution": true,
     "task": false
    }
   },
   "source": [
    "SKRIV TEORIBESVARELSE HER:"
   ]
  },
  {
   "cell_type": "markdown",
   "metadata": {
    "deletable": false,
    "editable": false,
    "nbgrader": {
     "cell_type": "markdown",
     "checksum": "17ada28a497440b7c6bc0dd4776b6c9f",
     "grade": false,
     "grade_id": "cell-0318e5acb0c28531",
     "locked": true,
     "schema_version": 3,
     "solution": false,
     "task": false
    }
   },
   "source": [
    "## b)\n",
    "\n",
    "Bruk fouriertransformasjon til å fjerne pipetonen fra lydsignalet.\\\n",
    "_Hint: dette vil være mest hensiktsmessig å utføre i frekvensdomenet._\n",
    "\n",
    "Den siste kodecellen i dette dokumentet vil skrive et digitalt signal `yn` til en lydfil med samplingsfrekvens `fs`. Bruk dette til å generere en \"reparert\" lydfil, last den ned, og lytt til talesignalet for å verifisere at pipelyden er borte. Var det vellykket?"
   ]
  },
  {
   "cell_type": "code",
   "execution_count": null,
   "metadata": {
    "deletable": false,
    "nbgrader": {
     "cell_type": "code",
     "checksum": "a2ca1cfc590d216c8723e5d657761dd5",
     "grade": true,
     "grade_id": "cell-52192b88ab827f6f",
     "locked": false,
     "points": 1,
     "schema_version": 3,
     "solution": true,
     "task": false
    }
   },
   "outputs": [],
   "source": [
    "# FYLL INN KODELØSNING HER:"
   ]
  },
  {
   "cell_type": "markdown",
   "metadata": {
    "deletable": false,
    "nbgrader": {
     "cell_type": "markdown",
     "checksum": "b7f319bf43b7ad76e6afe4b8733efb86",
     "grade": true,
     "grade_id": "cell-c926e33ba6c05c7e",
     "locked": false,
     "points": 1,
     "schema_version": 3,
     "solution": true,
     "task": false
    }
   },
   "source": [
    "SKRIV TEORIBESVARELSE HER:"
   ]
  },
  {
   "cell_type": "code",
   "execution_count": null,
   "metadata": {
    "deletable": false,
    "editable": false,
    "nbgrader": {
     "cell_type": "code",
     "checksum": "356dd4c7cb0c8f8b6f154b45812649d5",
     "grade": false,
     "grade_id": "cell-f27b13eb0d35270a",
     "locked": true,
     "schema_version": 3,
     "solution": false,
     "task": false
    }
   },
   "outputs": [],
   "source": [
    "data = np.int16(yn/max(abs(yn))*0x7FFF) # Convert and scale samples from float to 16 bit integer\n",
    "wavfile.write(\"speech_no_tone.wav\", fs, data) "
   ]
  }
 ],
 "metadata": {
  "kernelspec": {
   "display_name": "Python 3",
   "language": "python",
   "name": "python3"
  },
  "language_info": {
   "codemirror_mode": {
    "name": "ipython",
    "version": 3
   },
   "file_extension": ".py",
   "mimetype": "text/x-python",
   "name": "python",
   "nbconvert_exporter": "python",
   "pygments_lexer": "ipython3",
   "version": "3.7.9"
  }
 },
 "nbformat": 4,
 "nbformat_minor": 4
}

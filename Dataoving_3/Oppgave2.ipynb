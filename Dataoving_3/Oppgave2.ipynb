{
 "cells": [
  {
   "cell_type": "markdown",
   "metadata": {
    "deletable": false,
    "editable": false,
    "nbgrader": {
     "cell_type": "markdown",
     "checksum": "849d82659d9ead4120d3164b2e048cd3",
     "grade": false,
     "grade_id": "cell-483c68ab31aafe98",
     "locked": true,
     "schema_version": 3,
     "solution": false,
     "task": false
    }
   },
   "source": [
    "<nav class=\"navbar navbar-default\">\n",
    "  <div class=\"container-fluid\">\n",
    "    <div class=\"navbar-header\">\n",
    "      <a class=\"navbar-brand\" href=\"_Dataoving3.ipynb\">Dataøving 3</a>\n",
    "    </div>\n",
    "    <ul class=\"nav navbar-nav\">\n",
    "        <li><a href=\"Oppgave1.ipynb\">Oppgave1 - Digitale Signal og Diskrét Datarepresentasjon.</a></li>\n",
    "        <li class=\"active\"><a href=\"Oppgave2.ipynb\">Oppgave 2 - Signalanalyse med DFT.</a></li>\n",
    "        <li><a href=\"Oppgave3.ipynb\">Oppgave 3 - Signalgenerasjon med IDFT.</a></li>\n",
    "        <li><a href=\"Oppgave4.ipynb\">Oppgave 4 - Reparasjon av lydsignal.</a></li>\n",
    "    </ul>\n",
    "  </div>\n",
    "</nav>\n",
    "\n",
    "# Signalanalyse med DFT\n",
    "\n",
    "__Læringsmål__:\n",
    "* Forståelse for sammenheng mellom DFT-indeks og frekvens.\n",
    "* Tolking av Amplituden til sinuskomponenter i en N-punkts DFT.\n",
    "* Tolking av Fasen til sinuskomponenter i en N-punkts DFT.\n",
    "\n",
    "__Bibliotek og notebook-konfigurasjon:__"
   ]
  },
  {
   "cell_type": "code",
   "execution_count": null,
   "metadata": {},
   "outputs": [],
   "source": [
    "from numpy import sin, cos, pi, exp, arange, empty, append, mean, absolute, angle # Sentrale matematiske funksjoner\n",
    "from numpy.fft import fft, ifft             # DFT og IDFT\n",
    "import numpy as np                          # Importer funksjonalitet fra numpy biblioteket med prefiks \"np\"\n",
    "import matplotlib.pyplot as plt             # Importer pyplot modulen i matplotlib med prefiks \"plt\"\n",
    "import csv                                  # Håndtering av .csv fil\n",
    "from funksjoner_data3 import timeSpectrumStem\n",
    "\n",
    "%matplotlib notebook"
   ]
  },
  {
   "cell_type": "markdown",
   "metadata": {
    "deletable": false,
    "editable": false,
    "nbgrader": {
     "cell_type": "markdown",
     "checksum": "1c99b769d9de6ade0b00cbb5eac4482f",
     "grade": false,
     "grade_id": "cell-b5a40af0636e3ee7",
     "locked": true,
     "schema_version": 3,
     "solution": false,
     "task": false
    }
   },
   "source": [
    "**Introduksjon**\n",
    "\n",
    "I denne oppgaven skal vi se på et testsignal $x[n]$ med 128 sampler, bestående av to sinussekvenser som er lagt sammen $x[n] = A_1\\cdot \\cos\\left(\\hat{\\omega}_1\\cdot n + \\phi_1 \\right) + A_2\\cdot \\cos\\left(\\hat{\\omega}_2\\cdot n + \\phi_2 \\right)$. Signalet kan du laste inn fra datafila lab3.csv, og er signalet gitt i kolonnen merket `x1[n]`. Ved å regne DFT (fft) av dette signalet kan vi analysere frekvensinnholdet i signalet. Koden nedenfor vil regne ut signalets DFT, og visualisere resultatet ved bruk av funksjonen `timeSpectrumPlot()` som er laget for denne dataøvingen."
   ]
  },
  {
   "cell_type": "code",
   "execution_count": null,
   "metadata": {},
   "outputs": [],
   "source": [
    "data = []\n",
    "with open('lab3.csv', 'r', newline='') as csvfile:\n",
    "    sig_reader = csv.DictReader(csvfile, delimiter=',')\n",
    "    for line in sig_reader:\n",
    "        data.append(line) \n",
    "        \n",
    "n = np.array([float(line['sample']) for line in data])\n",
    "xn1 = np.array([float(line['x1[n]']) for line in data])\n",
    "Xk1 = fft(xn1);\n",
    "N = len(xn1);\n",
    "timeSpectrumStem(xn1, Xk1, N)\n"
   ]
  },
  {
   "cell_type": "markdown",
   "metadata": {
    "deletable": false,
    "editable": false,
    "nbgrader": {
     "cell_type": "markdown",
     "checksum": "7a1073913220cceb9c6790857e84c992",
     "grade": false,
     "grade_id": "cell-11369ac03231a6b9",
     "locked": true,
     "schema_version": 3,
     "solution": false,
     "task": false
    }
   },
   "source": [
    "## a)\n",
    "\n",
    "Studer figurene. Hvilke verdier av  i DFT-sekvensen hører til de to sinuskomponentene med frekvens $\\hat{\\omega}_1$ og $\\hat{\\omega}_2$? "
   ]
  },
  {
   "cell_type": "markdown",
   "metadata": {
    "deletable": false,
    "nbgrader": {
     "cell_type": "markdown",
     "checksum": "a47d76eab5483829844d9457e94e0cc5",
     "grade": true,
     "grade_id": "cell-87a18d2b47d8b13b",
     "locked": false,
     "points": 2,
     "schema_version": 3,
     "solution": true,
     "task": false
    }
   },
   "source": [
    "SKRIV TEORIBESVARELSE HER:"
   ]
  },
  {
   "cell_type": "markdown",
   "metadata": {
    "deletable": false,
    "editable": false,
    "nbgrader": {
     "cell_type": "markdown",
     "checksum": "b31858a97277da9ed738afa9b043b4aa",
     "grade": false,
     "grade_id": "cell-2b26f31ab234270d",
     "locked": true,
     "schema_version": 3,
     "solution": false,
     "task": false
    }
   },
   "source": [
    "## b)\n",
    "Vi kan skrive ut numeriske verdier til utvalgte element i $X_1[k]$, og ett \"par\" med symmetrisk plasserte element representerer én sinusbølge. Ett eksempel på hvordan man kan finne verdien til eksempelvis $X_1[81]$ i polarkoordinater er vist nedenfor:\n",
    "```python\n",
    "k = 81\n",
    "print(\"X[%d] har absoluttverdi %.1f og vinkel %.2f Pi\"% (k, absolute(Xk1[k]), angle(Xk1[k])))\n",
    "```\n",
    "- Studer de ulike sinuskomponentene til $x_1[n]$ i frekvensplanet ved å skrive ut verdien(e) til alle DFT-elementene som tilhører de to sinusbølgene som utgjør signalet. Finn så amplitude $A$, normalisert vinkelfrekvens $\\hat{\\omega}$ og fase $\\phi$ for hver sinuskomponent.\n",
    "- Hvis signalet har en samplingsfrekvens $f_s = 4096Hz$, hva er frekvensen til de to sinuskomponentene $f_1$ og $f_2$ i Hz?"
   ]
  },
  {
   "cell_type": "code",
   "execution_count": null,
   "metadata": {
    "deletable": false,
    "nbgrader": {
     "cell_type": "code",
     "checksum": "6ae670b8386d25b3ffaa538623d549b3",
     "grade": true,
     "grade_id": "cell-2fc8f5c07db4253f",
     "locked": false,
     "points": 1,
     "schema_version": 3,
     "solution": true,
     "task": false
    }
   },
   "outputs": [],
   "source": [
    "# FYLL INN KODELØSNING HER:"
   ]
  },
  {
   "cell_type": "markdown",
   "metadata": {
    "deletable": false,
    "nbgrader": {
     "cell_type": "markdown",
     "checksum": "ef39c9d807e851667b1ce6a9fbb757bd",
     "grade": true,
     "grade_id": "cell-869962ca16ed928f",
     "locked": false,
     "points": 1,
     "schema_version": 3,
     "solution": true,
     "task": false
    }
   },
   "source": [
    "SKRIV TEORIBESVARELSE HER:"
   ]
  },
  {
   "cell_type": "markdown",
   "metadata": {
    "deletable": false,
    "editable": false,
    "nbgrader": {
     "cell_type": "markdown",
     "checksum": "1ffa8aa6526a638275e426070fa97c74",
     "grade": false,
     "grade_id": "cell-17bb27a88daa0182",
     "locked": true,
     "schema_version": 3,
     "solution": false,
     "task": false
    }
   },
   "source": [
    "## c)\n",
    "Hva er den digitale perioden til signalet? (antall sampler M før sample-sekvensen gjentar seg selv)"
   ]
  },
  {
   "cell_type": "markdown",
   "metadata": {
    "deletable": false,
    "nbgrader": {
     "cell_type": "markdown",
     "checksum": "2ea8734345b3e0f8107d62e0b8977b30",
     "grade": true,
     "grade_id": "cell-a8d3189138ca4758",
     "locked": false,
     "points": 2,
     "schema_version": 3,
     "solution": true,
     "task": false
    }
   },
   "source": [
    "SKRIV TEORIBESVARELSE HER:"
   ]
  }
 ],
 "metadata": {
  "kernelspec": {
   "display_name": "Python 3",
   "language": "python",
   "name": "python3"
  },
  "language_info": {
   "codemirror_mode": {
    "name": "ipython",
    "version": 3
   },
   "file_extension": ".py",
   "mimetype": "text/x-python",
   "name": "python",
   "nbconvert_exporter": "python",
   "pygments_lexer": "ipython3",
   "version": "3.7.9"
  }
 },
 "nbformat": 4,
 "nbformat_minor": 4
}

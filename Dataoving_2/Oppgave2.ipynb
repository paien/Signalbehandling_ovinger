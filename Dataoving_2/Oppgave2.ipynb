{
 "cells": [
  {
   "cell_type": "markdown",
   "metadata": {
    "deletable": false,
    "editable": false,
    "nbgrader": {
     "cell_type": "markdown",
     "checksum": "20a1fb92a34a5af5ee5acf482b8d3181",
     "grade": false,
     "grade_id": "cell-623402ac50ae8986",
     "locked": true,
     "schema_version": 3,
     "solution": false,
     "task": false
    }
   },
   "source": [
    "<nav class=\"navbar navbar-default\">\n",
    "  <div class=\"container-fluid\">\n",
    "    <div class=\"navbar-header\">\n",
    "      <a class=\"navbar-brand\" href=\"_Dataoving2.ipynb\">Dataøving 2</a>\n",
    "    </div>\n",
    "    <ul class=\"nav navbar-nav\">\n",
    "        <li><a href=\"Oppgave1.ipynb\">Oppgave 1 - Komplekse Signal</a></li>\n",
    "        <li class=\"active\"><a href=\"Oppgave2.ipynb\">Oppgave 2 - Generering og analyse av C-dur skala</a></li>\n",
    "        <li><a href=\"Oppgave3.ipynb\">Oppgave 3 - Amplitudemodulasjon</a></li>\n",
    "        <li><a href=\"Oppgave4.ipynb\">Oppgave 4 -Frekvensdeteksjon</a></li>\n",
    "    </ul>\n",
    "  </div>\n",
    "</nav>\n",
    "\n",
    "# Generering og analyse av C-dur skala\n",
    "\n",
    "__Læringsmål__:\n",
    "* Generering av tids-varierende signal ved hjelp av en løkke-iterasjon.\n",
    "* Forståelse for grafisk representasjon av frekvensinnhold over tid (spektrogram).\n",
    "\n",
    "__Bibliotek og notebook-konfigurasjon:__"
   ]
  },
  {
   "cell_type": "code",
   "execution_count": null,
   "metadata": {},
   "outputs": [],
   "source": [
    "from numpy import sin, cos, pi, exp, arange, empty, append # Sentrale funksjoner for oppgaven\n",
    "from scipy.signal import spectrogram        # Lar oss generere et spektrogram som analyserer et signal i tid og frekvens\n",
    "from scipy.io import wavfile                # Lydfil I/O\n",
    "import numpy as np                          # Importer funksjonalitet fra numpy biblioteket med prefiks \"np\"\n",
    "import matplotlib.pyplot as plt             # Importer pyplot modulen i matplotlib med prefiks \"plt\"\n",
    "\n",
    "\n",
    "from funksjoner_data2 import displayDualSpectrum \n",
    "%matplotlib notebook"
   ]
  },
  {
   "cell_type": "markdown",
   "metadata": {
    "deletable": false,
    "editable": false,
    "nbgrader": {
     "cell_type": "markdown",
     "checksum": "abee2b6af1ec2365a41374567655237d",
     "grade": false,
     "grade_id": "cell-cce0c567dad7bafe",
     "locked": true,
     "schema_version": 3,
     "solution": false,
     "task": false
    }
   },
   "source": [
    "Vi skal bruke python til å generere C-dur skalaen. Frekvensvektoren `f_scale` under viser frekvensene til de ulike tonene i C-dur skalaen _(A = 440Hz)_. Disse frekvensene utgjør _grunnfrekvensen_ til de ulike tonene. \n",
    "\n",
    "```python\n",
    "f_scale = [261.63, 293.66, 329.63, 349.23, 391.99, 440.00, 493.88, 523.25] # Frequencies given in Hertz (Hz)\n",
    "fs = 8000 #Samples per second\n",
    "```\n",
    "\n",
    "Når man skal lage en serie med ulike toner, kan dette gjøres med bruk av en løkke som blar gjennom hver unike tone som skal genereres. Til dette bruker vi numpy-funksjonene `empty()` og `append()`. Metoden er gitt nedenfor:"
   ]
  },
  {
   "cell_type": "code",
   "execution_count": null,
   "metadata": {},
   "outputs": [],
   "source": [
    "f_scale = [261.63, 293.66, 329.63, 349.23, 391.99, 440.00, 493.88, 523.25] # Frequencies given in Hertz (Hz)\n",
    "fs = 8000 # Samples per second\n",
    "tone_duration = 0.5 # Seconds\n",
    " \n",
    "t_tone = arange(0.0, tone_duration, 1.0/fs) # Array containing sampling times for one tone\n",
    "xn = empty([1, 0], 'float') # Create empty row array (1 row and 0 columns) to contain finished C major scale\n",
    "\n",
    "for f in f_scale:\n",
    "    tone = cos(2*pi*f*t_tone) # Generate a single tone in the scale\n",
    "    xn = append(xn, tone)     # Add the tone after the existing content of \"xn\""
   ]
  },
  {
   "cell_type": "markdown",
   "metadata": {
    "deletable": false,
    "editable": false,
    "nbgrader": {
     "cell_type": "markdown",
     "checksum": "4c3908463c6c435b33f5049011e92080",
     "grade": false,
     "grade_id": "cell-703e1cee62c44c90",
     "locked": true,
     "schema_version": 3,
     "solution": false,
     "task": false
    }
   },
   "source": [
    "En nyttig visuell fremstilling av et signal i både tid og frekvens gjøres med et spektrogram, som bruker fargetoner til å antyde hvor sterke ulike frekvenskomponenter er ved et gitt tidspunkt i signalet."
   ]
  },
  {
   "cell_type": "code",
   "execution_count": null,
   "metadata": {},
   "outputs": [],
   "source": [
    "f_axis, t_axis, Sxx = spectrogram(xn, fs, 'hamming', 512, 256)\n",
    "plt.pcolormesh(t_axis, f_axis, Sxx, shading='gouraud')\n",
    "plt.ylim([0, 1000])\n",
    "plt.ylabel('Frequency [Hz]')\n",
    "plt.xlabel('Time [sec]')\n",
    "plt.show()"
   ]
  },
  {
   "cell_type": "markdown",
   "metadata": {
    "deletable": false,
    "editable": false,
    "nbgrader": {
     "cell_type": "markdown",
     "checksum": "0b95ba2a268b6c3e735e7a3356f0cc71",
     "grade": false,
     "grade_id": "cell-c5c14a9f7b737f08",
     "locked": true,
     "schema_version": 3,
     "solution": false,
     "task": false
    }
   },
   "source": [
    "For lydfiler kan det være nyttig å ha muligheten til å lytte til signalet i tillegg til å utføre frekvensanalyse. Enkleste måte å gjøre det er å skrive til en musikkfil (`.wav`), og spille av denne. Etter at du har kjørt cellen under skal det være mulig å laste ned og høre på det genererte lydsignalet."
   ]
  },
  {
   "cell_type": "code",
   "execution_count": null,
   "metadata": {
    "deletable": false,
    "editable": false,
    "nbgrader": {
     "cell_type": "code",
     "checksum": "d822acb81f0ff029abe0a9190a6d5031",
     "grade": false,
     "grade_id": "cell-5b8bfb05cff08655",
     "locked": true,
     "schema_version": 3,
     "solution": false,
     "task": false
    }
   },
   "outputs": [],
   "source": [
    "data = np.int16(xn/max(abs(xn))*0x7FFF) # Convert and scale samples from float to 16 bit integer\n",
    "wavfile.write(\"C_scale.wav\", fs, data) "
   ]
  },
  {
   "cell_type": "markdown",
   "metadata": {
    "deletable": false,
    "editable": false,
    "nbgrader": {
     "cell_type": "markdown",
     "checksum": "ce3b6dc556046641099b96620b1a45af",
     "grade": false,
     "grade_id": "cell-6f9c2350ca00c0ad",
     "locked": true,
     "schema_version": 3,
     "solution": false,
     "task": false
    }
   },
   "source": [
    "## a)\n",
    "* Studer det genererte spektrogrammet og lytt til lydfilen. Kommenter på sammenhengen mellom det du hører og spektrogram-plotet."
   ]
  },
  {
   "cell_type": "markdown",
   "metadata": {
    "deletable": false,
    "nbgrader": {
     "cell_type": "markdown",
     "checksum": "419fd1603c133f1299284525036ab63f",
     "grade": true,
     "grade_id": "cell-aa81da4e47caf612",
     "locked": false,
     "points": 1,
     "schema_version": 3,
     "solution": true,
     "task": false
    }
   },
   "source": [
    "SKRIV TEORIBESVARELSE HER:"
   ]
  },
  {
   "cell_type": "markdown",
   "metadata": {
    "deletable": false,
    "editable": false,
    "nbgrader": {
     "cell_type": "markdown",
     "checksum": "c5bc7dc78f8959246ae1451d9b682165",
     "grade": false,
     "grade_id": "cell-d47c47558aa94596",
     "locked": true,
     "points": 2,
     "schema_version": 3,
     "solution": false,
     "task": true
    }
   },
   "source": [
    "## b)\n",
    "* Gjør endringer på koden koden som genererer c-dur skalaen, slik at hver tone består av både grunnfrekvens _og_ 2. og 3. harmoniske komponenter i tråd med formelen nedenfor:\n",
    "$$x(t) = \\cos(2\\pi f \\cdot t) + 0.7\\cdot \\cos(4\\pi f \\cdot t) + 0.3\\cdot \\cos(6\\pi f \\cdot t)$$"
   ]
  }
 ],
 "metadata": {
  "kernelspec": {
   "display_name": "Python 3",
   "language": "python",
   "name": "python3"
  },
  "language_info": {
   "codemirror_mode": {
    "name": "ipython",
    "version": 3
   },
   "file_extension": ".py",
   "mimetype": "text/x-python",
   "name": "python",
   "nbconvert_exporter": "python",
   "pygments_lexer": "ipython3",
   "version": "3.7.9"
  }
 },
 "nbformat": 4,
 "nbformat_minor": 4
}

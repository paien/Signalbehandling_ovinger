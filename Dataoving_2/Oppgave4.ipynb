{
 "cells": [
  {
   "cell_type": "markdown",
   "metadata": {
    "deletable": false,
    "editable": false,
    "nbgrader": {
     "cell_type": "markdown",
     "checksum": "9c572aa41723980229073fee927a605a",
     "grade": false,
     "grade_id": "cell-623402ac50ae8986",
     "locked": true,
     "schema_version": 3,
     "solution": false,
     "task": false
    }
   },
   "source": [
    "<nav class=\"navbar navbar-default\">\n",
    "  <div class=\"container-fluid\">\n",
    "    <div class=\"navbar-header\">\n",
    "      <a class=\"navbar-brand\" href=\"_Dataoving2.ipynb\">Dataøving 2</a>\n",
    "    </div>\n",
    "    <ul class=\"nav navbar-nav\">\n",
    "        <li><a href=\"Oppgave1.ipynb\">Oppgave 1 - Komplekse Signal</a></li>\n",
    "        <li><a href=\"Oppgave2.ipynb\">Oppgave 2 - Generering og analyse av C-dur skala</a></li>\n",
    "        <li><a href=\"Oppgave3.ipynb\">Oppgave 3 - Amplitudemodulasjon</a></li>\n",
    "        <li class=\"active\"><a href=\"Oppgave4.ipynb\">Oppgave 4 -Frekvensdeteksjon</a></li>\n",
    "    </ul>\n",
    "  </div>\n",
    "</nav>\n",
    "\n",
    "# Frekvensdeteksjon\n",
    "\n",
    "__Læringsmål__:\n",
    "* Hvordan frekvensforskyvning kan anvendes til å undersøke tilstedeværelsen av en gitt frekvenskomponent i et signal.\n",
    "\n",
    "__Om Oppgaven__:\n",
    "* Denne oppgaven tar utgangspunkt i en praktisk problemstilling, og demonstrerer et mulig anvendelsesområde for teorien vi har jobbet med i de foregående oppgavene.\n",
    "\n",
    "__Bibliotek og notebook-konfigurasjon:__"
   ]
  },
  {
   "cell_type": "code",
   "execution_count": null,
   "metadata": {},
   "outputs": [],
   "source": [
    "from numpy import sin, cos, pi, exp, arange, empty, append, mean # Sentrale funksjoner for oppgaven\n",
    "import numpy as np                          # Importer funksjonalitet fra numpy biblioteket med prefiks \"np\"\n",
    "import matplotlib.pyplot as plt             # Importer pyplot modulen i matplotlib med prefiks \"plt\"\n",
    "import csv                                  # Håndtering av .csv fil\n",
    "\n",
    "%matplotlib notebook"
   ]
  },
  {
   "cell_type": "markdown",
   "metadata": {
    "deletable": false,
    "editable": false,
    "nbgrader": {
     "cell_type": "markdown",
     "checksum": "d821c5094c4cdca1cc4279e8bb0bc83b",
     "grade": false,
     "grade_id": "cell-b4cf024db12ff18a",
     "locked": true,
     "schema_version": 3,
     "solution": false,
     "task": false
    }
   },
   "source": [
    "## Problemstilling: tilstandsovervåking av maskineri\n",
    "\n",
    "En vindmølleprodusent opplever utfordringer rundt slitte kulelager i kontaktpunktet til en av akslingene i vindmøllene. Det er spesielt skader på kulene som følge av slitasje som har vist seg å være en gjenganger ved feilsøking på vindmøllene.\n",
    "Produsenten har et ønske om å kunne overvåke tilstanden av det aktuelle kulelageret i vindmøllen med hjelp av en vibrasjonssensor. Denne sensoren skal plasseres på utsiden av kulelageret, og en liten datamaskin skal analyse signalet fra sensoren for å plukke opp tegn til slitasje så tidlig som mulig.\n",
    "\n",
    "![](Figurer/4_kulelager.png)\n",
    "\n",
    "Prinsippet som ligger til grunn for dette systemet, er at hver av kulene vil rotere rundt sin egen akse 2.65 ganger for hver omdreining av akslingen. Og siden et gitt punkt på kula vil komme i kontakt med både indre og ytre ring i kulelageret, betyr dette at en skadet kule vil forårsake $2\\cdot2.65=5.3$ rykninger i kulelageret per omdreining av akslingen. \n",
    "Disse rykningene, i tillegg til mye annet, vil så plukkes opp av vibrasjonssensoren i form av et elektrisk signal som kan analyseres. Dette betyr at hvis kulelageret har en skadet kule, så burde signalet fra vibrasjonssensoren $x(t)$ inneholde en distinkt frekvenskomponent som har frekvens lik 5.3 ganger antall omdreininger per sekund $(\\rho )$.\n",
    "\n",
    "For å teste ut prinsippet, settes det opp en testrigg hvor aksling med kulelager festes til en motor hvor vi kan styre rotasjonshastigheten. Med rotasjonshastigheten konstant lik 10 omdreininger per sekund utføres tre ulike målinger på samme kulelager. Signalene fra målingene ($x_1(t)$, $x_2(t)$ og $x_3(t)$)  med korresponderende sampletidspunkt $t$ er lagret i .csv-filen `kulelager.csv`. Kodecellen nedenfor laster inn data fra filen og lagrer det i array med navn `t`, `x1`, `x2` og `x3`."
   ]
  },
  {
   "cell_type": "code",
   "execution_count": null,
   "metadata": {
    "deletable": false,
    "editable": false,
    "nbgrader": {
     "cell_type": "code",
     "checksum": "df3405bbe8e56b37a0328730e79fee88",
     "grade": false,
     "grade_id": "cell-8d7eca93d9daa124",
     "locked": true,
     "schema_version": 3,
     "solution": false,
     "task": false
    }
   },
   "outputs": [],
   "source": [
    "data = []\n",
    "with open('kulelager.csv', 'r', newline='') as csvfile:\n",
    "    sig_reader = csv.DictReader(csvfile, delimiter=',')\n",
    "    for line in sig_reader:\n",
    "        data.append(line) \n",
    "        \n",
    "t = np.array([float(line['time']) for line in data])\n",
    "x1 = np.array([float(line['test 1']) for line in data])\n",
    "x2 = np.array([float(line['test 2']) for line in data])\n",
    "x3 = np.array([float(line['test 3']) for line in data])"
   ]
  },
  {
   "cell_type": "markdown",
   "metadata": {
    "deletable": false,
    "editable": false,
    "nbgrader": {
     "cell_type": "markdown",
     "checksum": "b48974ddafa1c068714d35b2dfbbc113",
     "grade": false,
     "grade_id": "cell-a0ec565d23c971f2",
     "locked": true,
     "schema_version": 3,
     "solution": false,
     "task": false
    }
   },
   "source": [
    "### Enkel frekvensdeteksjon med frekvensmiksing\n",
    "Hvis det er en skade på én av kulene i kulelageret, burde målesignalet inneholde en merkbar sinuskomponent med frekvens $f = 10\\cdot 5.3 = 53 Hz$. Vi skal nå bruke frekvensmiksing som et verktøy til å avgjøre tilstedeværelsen av en slik sinuskomponent i signalene $x_1(t)$, $x_2(t)$ og $x_3(t)$. Illustrasjonen nedenfor viser hva resultatet blir når et eksempelsignal med frekvensinnhold blant annet for $f = 53Hz$ mikses med \"demodulasjonsbølge\" med frekvens nøyaktig lik $f_c = 53 Hz$.\n",
    "\n",
    "![](Figurer/Frekvensmiksing.gif)\n",
    "\n",
    "\n",
    "Her ser vi et plot av frekvensinnholdet til signalet som skal analyseres, en bærebølge, og det resulterende tosidige spekteret til et frekvensmikset/demodulert signal.\n",
    "\n",
    "Det som er av spesiell interesse er at vi nå får signalinnhold for $f= 0 Hz$, omsluttet av den røde rammen. Den delen av signalet som før var en sinusbølge med nøyaktig 53 Hz frekvens produserer nå et _konstantledd_ i signalet. Ved å regne ut middelverdien til det \"demodulerte\" signalet $y(t) = x(t)\\cdot \\cos(2\\pi \\cdot 53 \\cdot t)$, skal vi dermed kunne ut hvor stor amplituden til signalkomponenten med frekvens lik 53 Hz er. Dette kan også forklares matematisk ved å studere hva som skjer når vi multipliserer sammen to sinusbølger med lik frekvens. Det gir føglende trigonometriske identitet:\n",
    "$$\\cos(2\\pi \\cdot f \\cdot t)\\cdot \\cos(2\\pi \\cdot f \\cdot t) = \\frac{1}{2} + \\frac{1}{2} \\cdot \\cos(2\\pi \\cdot 2 f \\cdot t)$$\n",
    "Dette betyr at signalet får et konstantledd som tilsvarer halvparten av amplituden til sinusbølgen."
   ]
  },
  {
   "cell_type": "markdown",
   "metadata": {
    "deletable": false,
    "editable": false,
    "nbgrader": {
     "cell_type": "markdown",
     "checksum": "d4d4a66e96386e0803a570eb19113f26",
     "grade": false,
     "grade_id": "cell-b3ee246768f7a5b7",
     "locked": true,
     "schema_version": 3,
     "solution": false,
     "task": false
    }
   },
   "source": [
    "## a) \n",
    "* Utfør frekvensmiksing på signalene $x_1(t)$, $x_2(t)$ og $x_3(t)$ med en ren _cosinusbølge_ $\\cos(2\\pi \\cdot 53 \\cdot t)$. Bruk så funksjonen `mean()` til å finne middelverdien til de ulike signalbitene. Hva sier resultatet om tilstanden til kulelageret i de tre målingene?"
   ]
  },
  {
   "cell_type": "code",
   "execution_count": null,
   "metadata": {
    "deletable": false,
    "nbgrader": {
     "cell_type": "code",
     "checksum": "4b2ee710e2a8639acd90c8b942ed836e",
     "grade": true,
     "grade_id": "cell-981ab258e5dc7c7c",
     "locked": false,
     "points": 1,
     "schema_version": 3,
     "solution": true,
     "task": false
    }
   },
   "outputs": [],
   "source": [
    "# FYLL INN KODELØSNING HER:"
   ]
  },
  {
   "cell_type": "markdown",
   "metadata": {
    "deletable": false,
    "nbgrader": {
     "cell_type": "markdown",
     "checksum": "2bef7583b20e7805c7e897e2a7497f0b",
     "grade": true,
     "grade_id": "cell-f15a4a177d6ef6da",
     "locked": false,
     "points": 1,
     "schema_version": 3,
     "solution": true,
     "task": false
    }
   },
   "source": [
    "SKRIV TEORIBESVARELSE HER:"
   ]
  },
  {
   "cell_type": "markdown",
   "metadata": {
    "deletable": false,
    "editable": false,
    "nbgrader": {
     "cell_type": "markdown",
     "checksum": "e9710ffc79be2920ad48475c076ccb89",
     "grade": false,
     "grade_id": "cell-620a7b5e0b05f1b4",
     "locked": true,
     "schema_version": 3,
     "solution": false,
     "task": false
    }
   },
   "source": [
    "### Utfordringen med fase\n",
    "Vi har hittil antatt at sinuskomponentene i det målte signalet, og sinusbølgen vi bruker til å frekvensforskyve signalinnholdet ned til $f=0 Hz$ er i fase med hverandre. I realiteten er sannsynligheten for at dette forekommer svært liten, ettersom vi ikke enda har noen faseinformasjon om det signalet vi prøver å analysere. Vi kan regne ut matematisk hva som skjer når to sinussignal med lik frekvens og ulik fase multipliseres sammen:\\\n",
    "\\\n",
    "$$\\cos(2\\pi \\cdot f \\cdot t + \\phi)\\cdot \\cos(2\\pi \\cdot f \\cdot t) = \\frac{e^{j(2\\pi \\cdot f \\cdot t + \\phi)} + e^{-j(2\\pi \\cdot f \\cdot t + \\phi)}}{2} \\cdot \\frac{e^{j(2\\pi \\cdot f \\cdot t)} + e^{-j(2\\pi \\cdot f \\cdot t)}}{2}$$ \\\n",
    "\\\n",
    "$$ = \\frac{e^{j(2\\pi \\cdot f \\cdot t + \\phi)}\\cdot e^{j(2\\pi \\cdot f \\cdot t)} +e^{j(2\\pi \\cdot f \\cdot t + \\phi)}\\cdot e^{-j(2\\pi \\cdot f \\cdot t)} + e^{-j(2\\pi \\cdot f \\cdot t + \\phi)}\\cdot e^{j(2\\pi \\cdot f \\cdot t)} + e^{-j(2\\pi \\cdot f \\cdot t + \\phi)}\\cdot e^{-j(2\\pi \\cdot f \\cdot t)}}{4}$$ \\\n",
    "\\\n",
    "$$ = \\frac{e^{j(4\\pi \\cdot f \\cdot t + \\phi)} +e^{j\\phi} + e^{-j\\phi} + e^{-j(4\\pi \\cdot f \\cdot t + \\phi)}}{4}$$ \\\n",
    "\\\n",
    "$$ = \\frac{1}{2} \\cdot \\cos(\\phi) + \\frac{1}{2}\\cdot \\cos(4\\pi \\cdot f \\cdot t + \\phi)$$\n",
    "\n",
    "Middelverdien blir altså $\\frac{1}{2}\\cdot \\cos(\\phi)$, og metoden vi benytter i deloppgave __a)__ kan dermed gi nesten helt tilfeldige resultater avhengig av hva faseinformasjonen til signalet vi skal analysere er. Problemet her er _overlappingen_ vi ser i figuren ovenfor. Når to slike \"signalbolker\" forskyves slik at de overlapper med hverandre, vil hver frekvenskomponent summeres i tråd med _vektoraddisjonsprinsippet_ fra kapittel 2 avhengig av hva deres respektive faser. "
   ]
  },
  {
   "cell_type": "markdown",
   "metadata": {
    "deletable": false,
    "editable": false,
    "nbgrader": {
     "cell_type": "markdown",
     "checksum": "23fca5fe7450f18f15276b4ca03daaf5",
     "grade": false,
     "grade_id": "cell-bdbe3dca7b6c9f1b",
     "locked": true,
     "schema_version": 3,
     "solution": false,
     "task": false
    }
   },
   "source": [
    "## b) \n",
    "* Vi skal se nærmere på hvordan fase påvirker analysen vår. Utfør frekvensmiksing middelverdiutregning slik som i deloppgave __a)__, men nå med en _sinusbølge_ $\\sin(2\\pi \\cdot 53 \\cdot t)$. Sammenlign resultatene med deloppgave __a)__."
   ]
  },
  {
   "cell_type": "code",
   "execution_count": null,
   "metadata": {
    "deletable": false,
    "nbgrader": {
     "cell_type": "code",
     "checksum": "5e08c37c6f60f02c6d2284f17af28f7a",
     "grade": true,
     "grade_id": "cell-f97328bc3f65619a",
     "locked": false,
     "points": 1,
     "schema_version": 3,
     "solution": true,
     "task": false
    }
   },
   "outputs": [],
   "source": [
    "# FYLL INN KODELØSNING HER:"
   ]
  },
  {
   "cell_type": "markdown",
   "metadata": {
    "deletable": false,
    "nbgrader": {
     "cell_type": "markdown",
     "checksum": "fed3980be177fdf26bd64c93f085c7c8",
     "grade": true,
     "grade_id": "cell-4081122ca00ed6fc",
     "locked": false,
     "points": 1,
     "schema_version": 3,
     "solution": true,
     "task": false
    }
   },
   "source": [
    "SKRIV TEORIBESVARELSE HER:"
   ]
  },
  {
   "cell_type": "markdown",
   "metadata": {
    "deletable": false,
    "editable": false,
    "nbgrader": {
     "cell_type": "markdown",
     "checksum": "be977d3f95cc9cc8c8bfe863844c7d45",
     "grade": false,
     "grade_id": "cell-17ad0d7f1e318cfa",
     "locked": true,
     "schema_version": 3,
     "solution": false,
     "task": false
    }
   },
   "source": [
    "### Kompleks frekvensmiksing\n",
    "Som nevnt, så oppstår komplikasjoner når vi får overlapping i frekvensinnholdet rundt $f=0 Hz$ etter multiplikasjon med en sinusbølge. Problemet oppstår fordi frekvensmiksing splitter signalinnholdet i to like store kopier, og forskyver i begge retnigner langs frekvensaksen. Dette unngår vi om vi kan frekvensforskyve signalet kun i én retning, noe vi får til ved å bruke en roterende kompleks vektor heller enn en sinusbølge (ettersom en sinusbølge regnes som summen av to komplekse roterende vektorer).\n",
    "\n",
    "$$e^{-j2\\pi \\cdot 53 \\cdot t} = \\cos(2\\pi \\cdot 53 \\cdot t) - j\\sin(2\\pi \\cdot 53 \\cdot t)$$\n",
    "\n",
    "Figuren nedenfor viser hvordan dette vil påvirke signalinnholdet i frekvensplanet. Vi ser tydelig at det ikke forekommer noen overlapping mellom signalkopier i det frekvensforskjøvne signalet $y(t) = x(t)\\cdot e^{-j2\\pi \\cdot 53 \\cdot t}$.\n",
    "![](Figurer/Kompleks_frekvensmiksing.gif)"
   ]
  },
  {
   "cell_type": "markdown",
   "metadata": {
    "deletable": false,
    "editable": false,
    "nbgrader": {
     "cell_type": "markdown",
     "checksum": "554e5478ccace3d093c39296e988e2c1",
     "grade": false,
     "grade_id": "cell-5a7d11790f7e23a0",
     "locked": true,
     "schema_version": 3,
     "solution": false,
     "task": false
    }
   },
   "source": [
    "## c)\n",
    "* Hvordan kan vi bruke resultatet fra deloppgaven __a)__ og __b)__ til å finne styrken til $53 Hz$ frekvenskomponenten i de tre målingene? Regn ut amplituden til $53 Hz$ frekvenskomponenten i de tre signalene, og kommenter på eventuelle sammenhenger du ser i de tre målingene."
   ]
  },
  {
   "cell_type": "code",
   "execution_count": null,
   "metadata": {
    "deletable": false,
    "nbgrader": {
     "cell_type": "code",
     "checksum": "35c0a7ede4b093259da10b87fa2e69cc",
     "grade": true,
     "grade_id": "cell-a2618fedb7e59ee7",
     "locked": false,
     "points": 1,
     "schema_version": 3,
     "solution": true,
     "task": false
    }
   },
   "outputs": [],
   "source": [
    "# FYLL INN KODELØSNING HER:"
   ]
  },
  {
   "cell_type": "markdown",
   "metadata": {
    "deletable": false,
    "nbgrader": {
     "cell_type": "markdown",
     "checksum": "54520232dfbb29c6235c67a718affdfb",
     "grade": true,
     "grade_id": "cell-87145a8085c009b6",
     "locked": false,
     "points": 1,
     "schema_version": 3,
     "solution": true,
     "task": false
    }
   },
   "source": [
    "SKRIV TEORIBESVARELSE HER:"
   ]
  },
  {
   "cell_type": "markdown",
   "metadata": {
    "deletable": false,
    "editable": false,
    "nbgrader": {
     "cell_type": "markdown",
     "checksum": "2e78c88eebf9f478cda98ee84f91ca91",
     "grade": false,
     "grade_id": "cell-09d2f7ead89e28c0",
     "locked": true,
     "schema_version": 3,
     "solution": false,
     "task": false
    }
   },
   "source": [
    "## Til Ettertanke:\n",
    "\n",
    "Vi har i denne oppgaven sett på hvordan vi kan bruke frekvensforsyvning av et signal til å omforme en av frekvenskomponentene i et signal til ett konstantledd. Resultatet kan behandles videre ved bruke enkel middelverdiutregning til å regne ut konstantleddet, noe som gir en indikasjon på amplituden til den aktuelle frekvenskomponenten. \n",
    "\n",
    "Hvis man vil utføre en mer grundig analyse av signalet og regne ut frekvensen til \"alle\" frekvenskomponentene, så kan dette utføres ved å gjenta prosessen mange ganger med ulik carrier-frekvens hver gang. Hvis vi sier at signalet vi analyserer har en varighet $T_0$, og vi vil identifisere egenskapene alle frekvenskomponentene $a_k$ som fullfører et heltall $k$ antall svingninger i løpet av tidsperioden $T_0$, så kan denne analysen ta følgende matematiske form:\n",
    "\n",
    "$$a_k = \\frac{1}{T_0} \\cdot \\int_{0}^{T_0}x(t)\\cdot e^{-j\\frac{2\\pi \\cdot k \\cdot t}{T_0}}dt, \\ \\ \\ \\ \\ k \\in Z$$\n",
    "\n",
    "Dette er formelen for Fourierrekke-dekomponenring av en periodisk funksjon $x(t)$ som dere har arbeidet med i Matematiske Metoder 2. Det er også verdt å bemerke at fourierrekke-koeffisientene $a_k$ her vil gi både _amplituden_ og _fasen_ til hver av frekvenskomponentene i signalet $x(t)$."
   ]
  }
 ],
 "metadata": {
  "kernelspec": {
   "display_name": "Python 3",
   "language": "python",
   "name": "python3"
  },
  "language_info": {
   "codemirror_mode": {
    "name": "ipython",
    "version": 3
   },
   "file_extension": ".py",
   "mimetype": "text/x-python",
   "name": "python",
   "nbconvert_exporter": "python",
   "pygments_lexer": "ipython3",
   "version": "3.7.9"
  }
 },
 "nbformat": 4,
 "nbformat_minor": 4
}

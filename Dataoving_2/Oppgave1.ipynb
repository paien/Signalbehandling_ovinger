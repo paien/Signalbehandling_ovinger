{
 "cells": [
  {
   "cell_type": "markdown",
   "metadata": {
    "deletable": false,
    "editable": false,
    "nbgrader": {
     "cell_type": "markdown",
     "checksum": "a6d6d237b9ac5d30d0dcb862ef12bd77",
     "grade": false,
     "grade_id": "cell-e39c2ad7e7f46207",
     "locked": true,
     "schema_version": 3,
     "solution": false,
     "task": false
    }
   },
   "source": [
    "<nav class=\"navbar navbar-default\">\n",
    "  <div class=\"container-fluid\">\n",
    "    <div class=\"navbar-header\">\n",
    "      <a class=\"navbar-brand\" href=\"_Dataoving2.ipynb\">Dataøving 2</a>\n",
    "    </div>\n",
    "    <ul class=\"nav navbar-nav\">\n",
    "        <li class=\"active\"><a href=\"Oppgave1.ipynb\">Oppgave 1 - Komplekse Signal</a></li>\n",
    "        <li><a href=\"Oppgave2.ipynb\">Oppgave 2 - Generering og analyse av C-dur skala</a></li>\n",
    "        <li><a href=\"Oppgave3.ipynb\">Oppgave 3 - Amplitudemodulasjon</a></li>\n",
    "        <li><a href=\"Oppgave4.ipynb\">Oppgave 4 -Frekvensdeteksjon</a></li>\n",
    "    </ul>\n",
    "  </div>\n",
    "</nav>\n",
    "\n",
    "# Komplekse signal\n",
    "\n",
    "__Læringsmål__:\n",
    "* Generering av sinussignal og komplekse signal som numpy ndarray\n",
    "* Frekvensinnhold for sinussignal\n",
    "* Betydningen av tosidig frekvensspekter\n",
    "\n",
    "__Bibliotek og notebook-konfigurasjon:__"
   ]
  },
  {
   "cell_type": "code",
   "execution_count": null,
   "metadata": {},
   "outputs": [],
   "source": [
    "from numpy import sin, cos, pi, exp, arange # Sentrale funksjoner for oppgaven\n",
    "import numpy as np                          # Importer funksjonalitet fra numpy biblioteket med prefiks \"np\"\n",
    "import matplotlib.pyplot as plt             # Importer pyplot modulen i matplotlib med prefiks \"plt\"\n",
    "\n",
    "\n",
    "from funksjoner_data2 import displayDualSpectrum \n",
    "%matplotlib notebook"
   ]
  },
  {
   "cell_type": "markdown",
   "metadata": {
    "deletable": false,
    "editable": false,
    "nbgrader": {
     "cell_type": "markdown",
     "checksum": "6298968048120638bb53b86484de85d6",
     "grade": false,
     "grade_id": "cell-0971dd8c79089f1c",
     "locked": true,
     "schema_version": 3,
     "solution": false,
     "task": false
    }
   },
   "source": [
    "Funksjonen `displayDualSpectrum(xt, fs)` er skrevet spesielt for denne dataøvingen. Det er en void-funksjon som genererer et tosidig plot av frekvensinnholdet til en signal-array `xt` som funksjon av frekvens i Hertz _(hz)_ basert på angitt samplingsfrekvens `fs`."
   ]
  },
  {
   "cell_type": "markdown",
   "metadata": {
    "deletable": false,
    "editable": false,
    "nbgrader": {
     "cell_type": "markdown",
     "checksum": "32666126d389206f365afec40864a1b2",
     "grade": false,
     "grade_id": "cell-2df3479c4643604e",
     "locked": true,
     "schema_version": 3,
     "solution": false,
     "task": false
    }
   },
   "source": [
    "## Komplekse signal i Python \n",
    "\n",
    "I Signalbehandling kommer vi til å regne mye på komplekse tall og funksjoner. I Python kan man lage komplekse tall ved bruk av bokstaven 'j' bak et tall. Eksempelet nedenfor viser hvordan man kan lage komplekse tall enten med kartesiske komponenter eller polarkomponenter:\n",
    "\n",
    "```python\n",
    "z = x + 1j*y            # 'x' er reell del og 'y' er imaginær del\n",
    "z = r*exp(1j*theta)    # 'r' er absoluttverdi og 'theta' er vinkel i radianer\n",
    "```\n",
    "\n",
    "_P.S. Her brukes vi `exp()`-funksjonen fra biblioteket `numpy` istedenfor f.eks. `math`. Dette fordi funksjonene fra i `numpy` også kan håndtere store arrays som input, og ikke bare enkeltverdier, noe som vil være essensielt videre i oppgaven._\n",
    "\n",
    "Vi vet ifra teorien at et reelt sinusformet signal kan dekomponeres til to komplekse eksponentialer med motsatt rotasjonsretning: $$A \\cdot \\cos \\left(2\\pi f \\cdot t + \\phi \\right) = \\frac{A}{2}\\cdot e^{j\\phi} \\cdot e^{j2\\pi f \\cdot t} +  \\frac{A}{2}\\cdot e^{-j\\phi} \\cdot e^{-j2\\pi f \\cdot t}$$\n",
    "\n",
    "I denne oppgaven skal vi analysere tre ulike signal som er representert med hvert sitt ledd i likningen over.\n",
    "- $x(t) = A \\cdot \\cos(2\\pi f\\cdot t + \\phi )$ \n",
    "- $z_1(t)=\\frac{A}{2}\\cdot e^{j\\phi} \\cdot e^{j2\\pi f \\cdot t}$ \n",
    "- $z_2(t) = \\frac{A}{2}\\cdot e^{-j\\phi} \\cdot e^{-j2\\pi f \\cdot t}$"
   ]
  },
  {
   "cell_type": "markdown",
   "metadata": {
    "deletable": false,
    "editable": false,
    "nbgrader": {
     "cell_type": "markdown",
     "checksum": "0a75d1bfd2ca6fdc7751574c9d4e9af1",
     "grade": false,
     "grade_id": "cell-daf9a29faea383de",
     "locked": true,
     "points": 1,
     "schema_version": 3,
     "solution": false,
     "task": true
    }
   },
   "source": [
    "## a)\n",
    "- Nedenfor ser du kode som genererer en array __t__, som representerer en serie med tidspunkt fordelt utover et tidsintervall på 2 sekund. Bruk denne videre til å generere 2 sekund av signalene __xt__ ($x(t)$), __zt_1__ ($z_1(t)$) og __zt_2__ ($z_2(t)$) når $A = 5$, $f = 100$ og $\\phi = \\frac{\\pi}{5}$."
   ]
  },
  {
   "cell_type": "code",
   "execution_count": null,
   "metadata": {},
   "outputs": [],
   "source": [
    "fs = 500     # Samplingsfrekvens\n",
    "t = np.arange(0, 2, 1/fs) # 2*fs timestamps between 0 and 2 seconds\n",
    "\n",
    "#####################################\n",
    "# Fyll inn kodebesvarelse nedenfor: #\n",
    "#####################################\n",
    "A = 5\n",
    "f = 100\n",
    "phi = pi/5\n",
    "\n",
    "xt = A*cos(2*pi*f*t)\n",
    "zt_1 = A/2*exp(1j*(2*pi*f*t+phi))\n",
    "zt_2 = A/2*exp(-1j*(2*pi*f*t-phi))"
   ]
  },
  {
   "cell_type": "markdown",
   "metadata": {
    "deletable": false,
    "editable": false,
    "nbgrader": {
     "cell_type": "markdown",
     "checksum": "a56f778cdc913e7c42ff2c82d74a5f38",
     "grade": false,
     "grade_id": "cell-e3cac315b991c3e2",
     "locked": true,
     "points": 1,
     "schema_version": 3,
     "solution": false,
     "task": true
    }
   },
   "source": [
    "## b)\n",
    "- Bruk så funksjonen __displayDualSpectrum()__ og __subplot()__ til å lage en figur som viser frekvensinnholdet til de tre signalene."
   ]
  },
  {
   "cell_type": "code",
   "execution_count": null,
   "metadata": {},
   "outputs": [],
   "source": [
    "#####################################\n",
    "# Fyll inn kodebesvarelse nedenfor: #\n",
    "#####################################\n",
    "plt.figure()\n",
    "plt.subplot(3,1,1)\n",
    "displayDualSpectrum(xt, fs)\n",
    "plt.ylabel(\"x(t)\")\n",
    "plt.subplot(3,1,2)\n",
    "displayDualSpectrum(zt_1, fs)\n",
    "plt.ylabel(\"z1(t)\")\n",
    "plt.subplot(3,1,3)\n",
    "displayDualSpectrum(zt_2, fs)\n",
    "plt.ylabel(\"z2(t)\")\n",
    "plt.show()"
   ]
  },
  {
   "cell_type": "markdown",
   "metadata": {
    "deletable": false,
    "editable": false,
    "nbgrader": {
     "cell_type": "markdown",
     "checksum": "2ff1344539344c4798156bf6e18a7881",
     "grade": false,
     "grade_id": "cell-864d8ec77635b3e6",
     "locked": true,
     "schema_version": 3,
     "solution": false,
     "task": false
    }
   },
   "source": [
    "## c) \n",
    "* Studer spektrumsplotet til $x(t)$, $z_1(t)$ og $z_2(t)$. Hvorfor har $x(t)$ både positivt og negativt frekvensinnhold? Forklar sammenhengen mellom $x(t)$, $z_1(t)$ og $z_2(t)$ ved å henvise til de tre grafene."
   ]
  },
  {
   "cell_type": "markdown",
   "metadata": {
    "deletable": false,
    "nbgrader": {
     "cell_type": "markdown",
     "checksum": "18edad97f1ea14d614637c2e53c5e331",
     "grade": true,
     "grade_id": "cell-dd8af200ee874285",
     "locked": false,
     "points": 1,
     "schema_version": 3,
     "solution": true,
     "task": false
    }
   },
   "source": [
    "SKRIV TEORIBESVARELSE HER:"
   ]
  }
 ],
 "metadata": {
  "kernelspec": {
   "display_name": "Python 3",
   "language": "python",
   "name": "python3"
  },
  "language_info": {
   "codemirror_mode": {
    "name": "ipython",
    "version": 3
   },
   "file_extension": ".py",
   "mimetype": "text/x-python",
   "name": "python",
   "nbconvert_exporter": "python",
   "pygments_lexer": "ipython3",
   "version": "3.7.9"
  }
 },
 "nbformat": 4,
 "nbformat_minor": 4
}

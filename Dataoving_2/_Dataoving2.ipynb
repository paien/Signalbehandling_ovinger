{
 "cells": [
  {
   "cell_type": "markdown",
   "metadata": {},
   "source": [
    "# Dataøving 2 - Signalspekter og Frekvensdeteksjon\n",
    "\n",
    "### Relevant lesestoff: \n",
    "- Kapittel 2 & 3 i boka\n",
    "- Forelesningspresentasjoner fra uke _3 & 4_\n",
    "\n",
    "### Forarbeid:\n",
    "- Ta med hodetelefoner. Vi skal lytte til audiosignal i enkelte av oppgavene.\n",
    "\n",
    "Oppgave | Tema \n",
    "--- | --- \n",
    "[Oppgave 1 - Komplekse Signal](Oppgave1.ipynb) | Komplekse signal og frekvensinnhold \n",
    "[Oppgave 2 - C-dur skala](Oppgave2.ipynb) | Generasjon og analyse av et varierende lydsignal\n",
    "[Oppgave 3 - Amplitudemodulasjon](Oppgave3.ipynb) | Frekvensforskyvning av signal\n",
    "[Oppgave 4 - Frekvensdeteksjon](Oppgave4.ipynb) | Bruk av frekvensmiksing til signalanalyse"
   ]
  }
 ],
 "metadata": {
  "kernelspec": {
   "display_name": "Python 3",
   "language": "python",
   "name": "python3"
  },
  "language_info": {
   "codemirror_mode": {
    "name": "ipython",
    "version": 3
   },
   "file_extension": ".py",
   "mimetype": "text/x-python",
   "name": "python",
   "nbconvert_exporter": "python",
   "pygments_lexer": "ipython3",
   "version": "3.7.9"
  }
 },
 "nbformat": 4,
 "nbformat_minor": 4
}

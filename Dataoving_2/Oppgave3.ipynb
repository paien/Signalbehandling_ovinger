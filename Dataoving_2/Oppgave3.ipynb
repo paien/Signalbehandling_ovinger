{
 "cells": [
  {
   "cell_type": "markdown",
   "metadata": {
    "deletable": false,
    "editable": false,
    "nbgrader": {
     "cell_type": "markdown",
     "checksum": "ccd6cbb569703a2a874aed27feaaa528",
     "grade": false,
     "grade_id": "cell-623402ac50ae8986",
     "locked": true,
     "schema_version": 3,
     "solution": false,
     "task": false
    }
   },
   "source": [
    "<nav class=\"navbar navbar-default\">\n",
    "  <div class=\"container-fluid\">\n",
    "    <div class=\"navbar-header\">\n",
    "      <a class=\"navbar-brand\" href=\"_Dataoving2.ipynb\">Dataøving 2</a>\n",
    "    </div>\n",
    "    <ul class=\"nav navbar-nav\">\n",
    "        <li><a href=\"Oppgave1.ipynb\">Oppgave 1 - Komplekse Signal</a></li>\n",
    "        <li><a href=\"Oppgave2.ipynb\">Oppgave 2 - Generering og analyse av C-dur skala</a></li>\n",
    "        <li class=\"active\"><a href=\"Oppgave3.ipynb\">Oppgave 3 - Amplitudemodulasjon</a></li>\n",
    "        <li><a href=\"Oppgave4.ipynb\">Oppgave 4 -Frekvensdeteksjon</a></li>\n",
    "    </ul>\n",
    "  </div>\n",
    "</nav>\n",
    "\n",
    "# Amplitudemodulasjon\n",
    "\n",
    "__Læringsmål__:\n",
    "* Forståelse for konseptet frekvensforskyvning\n",
    "* Effekten av frekvensmiksing på frekvensinnholdet til et signal\n",
    "\n",
    "__Bibliotek og notebook-konfigurasjon:__"
   ]
  },
  {
   "cell_type": "code",
   "execution_count": null,
   "metadata": {},
   "outputs": [],
   "source": [
    "from numpy import sin, cos, pi, exp, arange, empty, append # Sentrale funksjoner for oppgaven\n",
    "import numpy as np                          # Importer funksjonalitet fra numpy biblioteket med prefiks \"np\"\n",
    "import matplotlib.pyplot as plt             # Importer pyplot modulen i matplotlib med prefiks \"plt\"\n",
    "\n",
    "\n",
    "from funksjoner_data2 import displayDualSpectrum # Vedlegg til dataøving 2\n",
    "%matplotlib notebook"
   ]
  },
  {
   "cell_type": "markdown",
   "metadata": {
    "deletable": false,
    "editable": false,
    "nbgrader": {
     "cell_type": "markdown",
     "checksum": "cfc957928a8246d3f13a85826dbee6e5",
     "grade": false,
     "grade_id": "cell-b4cf024db12ff18a",
     "locked": true,
     "schema_version": 3,
     "solution": false,
     "task": false
    }
   },
   "source": [
    "Amplitudemodulasjon (AM) er en gammel teknikk som ble brukt til å overføre analoge signal ved hjelp av radiobølger. Grunnkonseptet går ut på å multiplisere (mikse) det analoge signalet med en bærebølge med mye høyere frekvens , slik at man ender opp med et informasjonsbærende signal hvor spektralinnholdet er sentrert rundt carrier frekvensen . Bildet nedenfor viser et utklipp et signal, en bærebølge, og det resulterende AM signalet.\n",
    "\n",
    "![](Figurer/Amplitudemodulasjon.png)\n",
    "\n",
    "Resultatet blir en såkalt \"Beat Note\" hvor vi får én gjenkjennbar hovedfrekvens som varierer i amplitude over tid."
   ]
  },
  {
   "cell_type": "markdown",
   "metadata": {
    "deletable": false,
    "editable": false,
    "nbgrader": {
     "cell_type": "markdown",
     "checksum": "2d486804d335db7222183c1d7a54041b",
     "grade": false,
     "grade_id": "cell-a5e7978d6c00cfec",
     "locked": true,
     "schema_version": 3,
     "solution": false,
     "task": false
    }
   },
   "source": [
    "Vi tar utgangspunkt i et basis-signal $x(t)$ som kan beskrives matematisk som følger:\n",
    "$$x(t) = A_0 + A_1 \\cdot \\cos(2\\pi \\cdot f_1 \\cdot t) + A_2 \\cdot \\cos(2\\pi \\cdot f_2 \\cdot t)$$\n",
    "Vi skal deretter lage et amplitudemodulert signal $y(t) = x(t) \\cdot cos(2\\pi \\cdot f_c \\cdot t)$ der $f_c$ er carrier-frekvensen. Parametrene settes i kodecellen nedenfor."
   ]
  },
  {
   "cell_type": "code",
   "execution_count": null,
   "metadata": {},
   "outputs": [],
   "source": [
    "Fs = 240 # Samplingsfrekvens\n",
    "F1 = 8\n",
    "F2 = 12\n",
    "A0 = 0.48\n",
    "A1 = 0.31\n",
    "A2 = 0.19\n",
    "Fc = 50 #Carrier Frekvens\n",
    "T = 20  #Signalets varighet i sekund"
   ]
  },
  {
   "cell_type": "markdown",
   "metadata": {
    "deletable": false,
    "editable": false,
    "nbgrader": {
     "cell_type": "markdown",
     "checksum": "e49e632ce87d3c9685a99374f6bc3fe4",
     "grade": false,
     "grade_id": "cell-93c2195d81039d4a",
     "locked": true,
     "schema_version": 3,
     "solution": false,
     "task": false
    }
   },
   "source": [
    "## a)\n",
    "* Fullfør koden i cellen nedenfor slik at vi har to signal i form av array objekter `xt` og `yt` som inneholder signalene $x(t)$ og $y(t)$ som beskrevet ovenfor. "
   ]
  },
  {
   "cell_type": "code",
   "execution_count": null,
   "metadata": {},
   "outputs": [],
   "source": [
    "# Signalgenerasjon:\n",
    "\n",
    "t = arange(0, T, 1/Fs) \n",
    "xt = None # Implementer riktig formel her\n",
    "yt = None # Implementer riktig formel her\n",
    "\n",
    "# Plotting av signalspektrum:\n",
    "\n",
    "plt.figure()\n",
    "plt.subplot(2,1,1)\n",
    "displayDualSpectrum(xt,Fs)\n",
    "plt.title('Basisbånd-signal x(t)')\n",
    "plt.subplot(2,1,2)\n",
    "displayDualSpectrum(yt,Fs)\n",
    "plt.title('Frekvensmikset signal y(t)')\n",
    "plt.show()"
   ]
  },
  {
   "cell_type": "markdown",
   "metadata": {
    "deletable": false,
    "editable": false,
    "nbgrader": {
     "cell_type": "markdown",
     "checksum": "e869f9b0bbef04482e4f762b3d0dc9f0",
     "grade": false,
     "grade_id": "cell-9487478809e77ddf",
     "locked": true,
     "schema_version": 3,
     "solution": false,
     "task": false
    }
   },
   "source": [
    "## b)\n",
    "Prøv deg fram med å justere de ulike signalparametrene, og svar på følgende kontrollspørsmål:\n",
    "* Hvorfor har vi ulik amplitude for signalkomponentene i delplot 1 og delplot 2?\n",
    "* Hva avgjør _båndbredden_ til signalet $y(t)$"
   ]
  },
  {
   "cell_type": "markdown",
   "metadata": {
    "deletable": false,
    "nbgrader": {
     "cell_type": "markdown",
     "checksum": "2556415731bb5e2cd7b9af7a13ea0e90",
     "grade": true,
     "grade_id": "cell-f8e4945a9a4eca89",
     "locked": false,
     "points": 1,
     "schema_version": 3,
     "solution": true,
     "task": false
    }
   },
   "source": [
    "SKRIV TEORIBESVARELSE HER:"
   ]
  },
  {
   "cell_type": "markdown",
   "metadata": {
    "deletable": false,
    "editable": false,
    "nbgrader": {
     "cell_type": "markdown",
     "checksum": "44415a5a9a1be08ab0089f43b8cc744d",
     "grade": false,
     "grade_id": "cell-4562070157701086",
     "locked": true,
     "schema_version": 3,
     "solution": false,
     "task": false
    }
   },
   "source": [
    "## c)\n",
    "\n",
    "* Lag et nytt signal $v(t) = y(t)\\cdot \\cos(2\\pi \\cdot f_c \\cdot t)$ og vis det tosidige spekteret til $v(t)$ i en ny figur. Beskriv hva som skjer med frekvensinnholdet til signalet."
   ]
  },
  {
   "cell_type": "code",
   "execution_count": null,
   "metadata": {},
   "outputs": [],
   "source": []
  },
  {
   "cell_type": "markdown",
   "metadata": {
    "deletable": false,
    "editable": false,
    "nbgrader": {
     "cell_type": "markdown",
     "checksum": "1c35fd8317b5e9c195cd3186695912e7",
     "grade": false,
     "grade_id": "cell-cae915ed90885917",
     "locked": true,
     "schema_version": 3,
     "solution": false,
     "task": false
    }
   },
   "source": [
    "## d) \n",
    "* Bruk funksjonen `mean()` til å regne ut gjennomsnittsverdien til de genererte signalene $x(t)$, $y(t)$ og $v(t)$. Kommenter på sammenhengen med frekvensplotene fra de tidligere deloppgavene."
   ]
  }
 ],
 "metadata": {
  "kernelspec": {
   "display_name": "Python 3",
   "language": "python",
   "name": "python3"
  },
  "language_info": {
   "codemirror_mode": {
    "name": "ipython",
    "version": 3
   },
   "file_extension": ".py",
   "mimetype": "text/x-python",
   "name": "python",
   "nbconvert_exporter": "python",
   "pygments_lexer": "ipython3",
   "version": "3.7.9"
  }
 },
 "nbformat": 4,
 "nbformat_minor": 4
}

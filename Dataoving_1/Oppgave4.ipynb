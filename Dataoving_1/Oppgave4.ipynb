{
 "cells": [
  {
   "cell_type": "markdown",
   "metadata": {
    "deletable": false,
    "editable": false,
    "nbgrader": {
     "cell_type": "markdown",
     "checksum": "338c2f73acfdeea5ea55746b5338ad8b",
     "grade": false,
     "grade_id": "cell-590d4cadbee5d5c3",
     "locked": true,
     "schema_version": 3,
     "solution": false,
     "task": false
    }
   },
   "source": [
    "<nav class=\"navbar navbar-default\">\n",
    "  <div class=\"container-fluid\">\n",
    "    <div class=\"navbar-header\">\n",
    "      <a class=\"navbar-brand\" href=\"_Dataoving1.ipynb\">Dataøving 1</a>\n",
    "    </div>\n",
    "    <ul class=\"nav navbar-nav\">\n",
    "        <li><a href=\"Oppgave1.ipynb\">Oppgave 1 - Fra matematiske uttrykk til python-kode</a></li>\n",
    "        <li><a href=\"Oppgave2.ipynb\">Oppgave 2 - Plotting av matematiske funksjoner</a></li>\n",
    "        <li><a href=\"Oppgave3.ipynb\">Oppgave 3 - Plotting av flere datasett</a></li>\n",
    "        <li class=\"active\"><a href=\"Oppgave4.ipynb\">Oppgave 4 - Analyse av lydsignal</a></li>\n",
    "    </ul>\n",
    "  </div>\n",
    "</nav>\n",
    "\n",
    "# Analyse av Lydsignal\n",
    "\n",
    "**Læringsmål:**\n",
    "* Kjenne til sammenhengen mellom samplenummer og samplingstidspunkt\n",
    "* Kunne tyde grafisk fremstilling av signal i både tid- og frekvensplan\n",
    "* Bli kjent med konseptet *grunnfrekvens*\n",
    "\n",
    "**Forarbeid:**\n",
    "* Ha hodetelefoner tilgjengelig\n",
    "\n",
    "**Bibliotek og notebook-konfigurasjon:**"
   ]
  },
  {
   "cell_type": "code",
   "execution_count": null,
   "metadata": {},
   "outputs": [],
   "source": [
    "from numpy import array, arange, linspace, logspace, sin, cos, exp, sqrt, log, pi\n",
    "import matplotlib.pyplot as plt\n",
    "from scipy.io import wavfile                # Lydfil I/O\n",
    "from funksjoner_data1 import signalAnalyzer\n",
    "\n",
    "%matplotlib notebook"
   ]
  },
  {
   "cell_type": "markdown",
   "metadata": {
    "deletable": false,
    "editable": false,
    "nbgrader": {
     "cell_type": "markdown",
     "checksum": "80618d8b70a735c0301bfcc80e969a87",
     "grade": false,
     "grade_id": "cell-55155abda00db9d5",
     "locked": true,
     "schema_version": 3,
     "solution": false,
     "task": false
    }
   },
   "source": [
    "**Importering av lydfil.**\n",
    "\n",
    "Vi skal nå bruke Python til å analysere et lydklipp med spekkhoggerlyder. Koden nedenfor laster inn lydsignalet som et numpy ndarray `xn` med flyttall mellom -1,0 og 1,0. Dette er en liste med *alle* samplene i lydklippet. I tillegg henter vi også informasjon om samplingsfrekvensen til lydklippet i variabelen `fs`. "
   ]
  },
  {
   "cell_type": "code",
   "execution_count": null,
   "metadata": {},
   "outputs": [],
   "source": [
    "fs, data = wavfile.read(r'orca.wav') # les audiofilen 'orca.wav' og lagre til variablene 'fs' og 'data'\n",
    "xn = data*1.0/0x7FFF"
   ]
  },
  {
   "cell_type": "markdown",
   "metadata": {
    "deletable": false,
    "editable": false,
    "nbgrader": {
     "cell_type": "markdown",
     "checksum": "ac643e6bab7459937ea1bb0a15629054",
     "grade": false,
     "grade_id": "cell-7219288243356cd1",
     "locked": true,
     "schema_version": 3,
     "solution": false,
     "task": false
    }
   },
   "source": [
    "## a)\n",
    "Kjør cellen ovenfor, og undersøk variablene `xn`og `fs`.\\\n",
    "Svar på følgende spørsmål:\n",
    "* Hva er samplingsfrekvensen $f_s$ til lydsignalet?\n",
    "* Hva er samplingsperioden $T_s$ til lydsignalet?\n",
    "* Hvor mange sampler består lydfilen av?\n",
    "* Hva er lengden til lydfilen i sekund?"
   ]
  },
  {
   "cell_type": "markdown",
   "metadata": {
    "deletable": false,
    "nbgrader": {
     "cell_type": "markdown",
     "checksum": "747aadece57521ed0dad0cdfb90708b0",
     "grade": true,
     "grade_id": "cell-0054e3ebb22ce000",
     "locked": false,
     "points": 1,
     "schema_version": 3,
     "solution": true,
     "task": false
    }
   },
   "source": [
    "SKRIV TEORIBESVARELSE HER:"
   ]
  },
  {
   "cell_type": "markdown",
   "metadata": {
    "deletable": false,
    "editable": false,
    "nbgrader": {
     "cell_type": "markdown",
     "checksum": "53d36a783dbc74d0d378f91ec0030e26",
     "grade": false,
     "grade_id": "cell-fccf9d4a7dc5dfe9",
     "locked": true,
     "schema_version": 3,
     "solution": false,
     "task": false
    }
   },
   "source": [
    "**Bruk av funksjonen `signalAnalyzer()`**\n",
    "\n",
    "Med denne dataøvingen følger en funksjon som genererer en figur med plot av signalinnhold i både tid og frekvens for et bestemt utklipp av et digitalt signal. Denne kan brukes til å velge ut et segment av lydsignalet `xn` og analysere dette i både tids- og frekvensdomenet. Denne skal vi bruke videre i oppgaven til å analysere lydfilen `orca.wav`."
   ]
  },
  {
   "cell_type": "code",
   "execution_count": null,
   "metadata": {},
   "outputs": [],
   "source": [
    "n_start = 4000 # Samplenummer for første sample i signalsegmentet som skal analyseres.\n",
    "n_stop = 8000  # Samplenummer for siste sample i signalsegmentet som skal analyseres.\n",
    "\n",
    "\n",
    "signalAnalyzer(xn, fs, n_start, n_stop)\n",
    "# Produser en grafisk fremstilling som viser signalet 'xn' mellom sample nummer \n",
    "# 'n_start' og 'n_stop' i både tid- og frekvenspdomenet. Vil også vise et plot av hele signalet,\n",
    "# der signalsegmentet som er valgt for analyse er markert. Funksjonen bruker samplings-\n",
    "# frekvensen 'fs' for å kune fremstille informasjon som funksjon av tid (s) og frekvens (Hz)."
   ]
  },
  {
   "cell_type": "markdown",
   "metadata": {
    "deletable": false,
    "editable": false,
    "nbgrader": {
     "cell_type": "markdown",
     "checksum": "b551902b3440e672bc5e8b260c41e973",
     "grade": false,
     "grade_id": "cell-365fd705346b4185",
     "locked": true,
     "points": 1,
     "schema_version": 3,
     "solution": false,
     "task": true
    }
   },
   "source": [
    "## b)\n",
    "Vi vil studere et mindre utklipp av signalet i tidsintervallet $1.53s \\leq t < 1.58s$ i større detalj. Finn ut hvilket sampleintervall som korresponderer med dette tidsintervallet, og bruk funksjonen `signalAnalyzer()` til å vise en analyse av lydklippet i dette tidsintervallet. Du kan løse denne oppgaven ved å gjøre endringer på kodecellen ovenfor."
   ]
  },
  {
   "cell_type": "markdown",
   "metadata": {
    "deletable": false,
    "editable": false,
    "nbgrader": {
     "cell_type": "markdown",
     "checksum": "4c5c368a58d9452bcdae25e0c26c5b02",
     "grade": false,
     "grade_id": "cell-1ef348bc5e2931af",
     "locked": true,
     "schema_version": 3,
     "solution": false,
     "task": false
    }
   },
   "source": [
    "## c)\n",
    "Grunnfrekvensen $f_0$ til et periodisk signal defineres som hvor mange ganger et gitt signalmønster gjentear seg selv i løpet av ett sekund. Dette kan beskrives matematisk med følgende formel:\n",
    "$$ x(t) = x\\left( t-\\frac{k}{f_0} \\right), \\ \\ \\ k \\in \\mathbb{Z}$$\n",
    "Signal hentet fra virkeligheten er sjeldent 100% periodiske, men de kan allikevel ha en dominerende periodisk komponent. \n",
    "* Studer tidsplottet av signalsegmentet, og finn grunnperioden $T_0 = \\frac{1}{f_0}$ ved å måle distanse i tid mellom gjentagende signalmøsnter. Du kan lese av x/y verdier for ethvert punkt på en figur ved å holde musepekeren over det aktuelle punktet.\n",
    "*P.S.: Her kan det være en fordel å måle over et større antall perioder (f.eks. 5) og så dele på 5 for å få en gjennomsnittsmåling. Dette vil redusere målefeil* "
   ]
  },
  {
   "cell_type": "markdown",
   "metadata": {
    "deletable": false,
    "nbgrader": {
     "cell_type": "markdown",
     "checksum": "a3e25b007eb71ff0ae60d7f45c86fdf5",
     "grade": true,
     "grade_id": "cell-c39e5b4904bb6264",
     "locked": false,
     "points": 1,
     "schema_version": 3,
     "solution": true,
     "task": false
    }
   },
   "source": [
    "SKRIV TEORIBESVARELSE HER:"
   ]
  },
  {
   "cell_type": "markdown",
   "metadata": {
    "deletable": false,
    "editable": false,
    "nbgrader": {
     "cell_type": "markdown",
     "checksum": "1e7d39831daeb6a74343cc2726cff1ba",
     "grade": false,
     "grade_id": "cell-5b1d010e8d788879",
     "locked": true,
     "schema_version": 3,
     "solution": false,
     "task": false
    }
   },
   "source": [
    "# d) \n",
    "En annen egenskap som kjennetegner sterkt periodiske signal med en grunnfrekvens $f_0$ er at de er satt sammen primært av frekvenskomponenter med som alle er harmoniske med grunnfrekvensen: $f \\in \\{1\\cdot f_0, \\ 2\\cdot f_0, \\ 3\\cdot f_0, \\ \\ldots \\}$. Dette kan vi identifisere ved å studere frekvensspekteret til et signal, ettersom det vil oppstå en serie med toppunkt med jevne frekvensintervall $f_0$.\n",
    "\n",
    "* Studer plottet av frekvensspekteret til signalet, og finn signalets grunnfrekvens $f_0$.\n",
    "* Kontroller svaret ved å sammenlikne med lønsingen fra deloppgave **c**."
   ]
  },
  {
   "cell_type": "markdown",
   "metadata": {
    "deletable": false,
    "nbgrader": {
     "cell_type": "markdown",
     "checksum": "893bf3818491674b015263c74d8eeb24",
     "grade": true,
     "grade_id": "cell-eeed5539d76893b2",
     "locked": false,
     "points": 1,
     "schema_version": 3,
     "solution": true,
     "task": false
    }
   },
   "source": [
    "SKRIV TEORIBESVARELSE HER:"
   ]
  }
 ],
 "metadata": {
  "kernelspec": {
   "display_name": "Python 3",
   "language": "python",
   "name": "python3"
  },
  "language_info": {
   "codemirror_mode": {
    "name": "ipython",
    "version": 3
   },
   "file_extension": ".py",
   "mimetype": "text/x-python",
   "name": "python",
   "nbconvert_exporter": "python",
   "pygments_lexer": "ipython3",
   "version": "3.7.9"
  }
 },
 "nbformat": 4,
 "nbformat_minor": 4
}

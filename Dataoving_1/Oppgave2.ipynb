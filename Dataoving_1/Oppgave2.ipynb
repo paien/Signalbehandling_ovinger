{
 "cells": [
  {
   "cell_type": "markdown",
   "metadata": {
    "deletable": false,
    "editable": false,
    "nbgrader": {
     "cell_type": "markdown",
     "checksum": "2c6622bc29a12fd65ab76327212bb138",
     "grade": false,
     "grade_id": "cell-1cc0f12d4abfdb8f",
     "locked": true,
     "schema_version": 3,
     "solution": false,
     "task": false
    }
   },
   "source": [
    "<nav class=\"navbar navbar-default\">\n",
    "  <div class=\"container-fluid\">\n",
    "    <div class=\"navbar-header\">\n",
    "      <a class=\"navbar-brand\" href=\"_Dataoving1.ipynb\">Dataøving 1</a>\n",
    "    </div>\n",
    "    <ul class=\"nav navbar-nav\">\n",
    "        <li><a href=\"Oppgave1.ipynb\">Oppgave 1 - Fra matematiske uttrykk til python-kode</a></li>\n",
    "        <li class=\"active\"><a href=\"Oppgave2.ipynb\">Oppgave 2 - Plotting av matematiske funksjoner</a></li>\n",
    "        <li><a href=\"Oppgave3.ipynb\">Oppgave 3 - Plotting av flere datasett</a></li>\n",
    "        <li><a href=\"Oppgave4.ipynb\">Oppgave 4 - Analyse av lydsignal</a></li>\n",
    "    </ul>\n",
    "  </div>\n",
    "</nav>\n",
    "\n",
    "# Plotting av matematiske funksjoner med Matplotlib\n",
    "\n",
    "__Læringsmål__:\n",
    "* Tilnærming til \"kontinuerlig\" data\n",
    "* Plotting av funksjoner med bruk av matplotlib\n",
    "* Oppfriskning kvadratisk koordinatsystem og polart koordinatsystem\n",
    "\n",
    "__Bibliotek og notebook-konfigurasjon:__"
   ]
  },
  {
   "cell_type": "code",
   "execution_count": null,
   "metadata": {},
   "outputs": [],
   "source": [
    "from numpy import array, arange, linspace, logspace, sin, cos, exp, sqrt, log, pi\n",
    "import matplotlib.pyplot as plt\n",
    "\n",
    "%matplotlib notebook"
   ]
  },
  {
   "cell_type": "markdown",
   "metadata": {
    "deletable": false,
    "editable": false,
    "nbgrader": {
     "cell_type": "markdown",
     "checksum": "0c80a17ccbf6aefae7c4f64bf49fca1d",
     "grade": false,
     "grade_id": "cell-77ffeb5e1bc47c8e",
     "locked": true,
     "schema_version": 3,
     "solution": false,
     "task": false
    }
   },
   "source": [
    "__Plotting av funksjoner / signal__\n",
    "\n",
    "Vi kommer ofte til å ha lyst til å studere egenskapene til digitale signal og/eller digitale filter grafisk. Det er derfor nyttig å være i stand til å framstille gode og informative figurer som formidler informasjonen om signal/filter som vi er interessert i.\n",
    "\n",
    "Vi skal nå jobbe med matriser og vektorer med svært mange elementer. Istedenfor å benytte en array med heltall `n` slik som i oppgave 1, skal vi nå bruke en array med flyttall slik at vi får høyere \"oppløsning\" enn ett datapunkt per heltall. Her er det anbefalt å bruke funksjonen `linspace()`.\n",
    "\n",
    "Funksjonen plot(x,y) i matplotlib.pyplot benytter to vektorer x og y med lik lengde hvor hvert element i vektorene angir x-koordinatene og y-koordinatene til et punkt på grafen. Matplotlib vil så generere en graf om trekker linjer mellom alle disse punktene i kronologisk rekkefølge. Det går også an å bruke kun ett argument plot(y), da vil matplotlib anta at x-vektoren er en heltallsarray `x = [1, 2, 3, 4, .....]`.\n",
    "\n",
    "Mer informasjon om funksjonaliteten til plot-funksjonen kan du finne [her](https://matplotlib.org/api/pyplot_api.html), og vi skal utforske en del av mulighetene utover denne oppgaven. Bruk av matplotlib likner for øvrig veldig på MATLAB.\n",
    "Nedenfor er to eksempler med kode, én som plotter den lineære kvadratiske  funksjonen $y = 0.7\\cdot x^2 - x + 4$ for $ 0 \\leq x < 10$, og én som plotter ellipsen beskrevet med $x^2 + 2y^2 = 3^2$."
   ]
  },
  {
   "cell_type": "code",
   "execution_count": null,
   "metadata": {},
   "outputs": [],
   "source": [
    "# Kvadratisk Funksjon!\n",
    "x1 = linspace(0, 10, 100) # Returnerer en array med 100 flyttalsverdier uniformt fordelt mellom 0 og 10\n",
    "y1 = 0.7*x1**2 - x1 + 4\n",
    "plt.figure(1)             # Lager en ny figur\n",
    "plt.plot(x1, y1)          # Plotter en graf ut i fra x- og y koordinater i arrayene x2 og y2 med en connect-the-dots tilnærming\n",
    "plt.show()                # Viser figuren"
   ]
  },
  {
   "cell_type": "code",
   "execution_count": null,
   "metadata": {},
   "outputs": [],
   "source": [
    "# Ellipse!\n",
    "# Ettersom dette er en sirkulær figur er blir det vanskelig å regne ut y-verdier med utgangspunkt i x-verdier.\n",
    "# Her er det bedre å ta utgangspunkt i vinkel \"theta\", og regne ut både x- og y arrays med utgangspunkt i vinkel.\n",
    "\n",
    "theta = linspace(0, 2*pi, 100) # Returnerer en array med 100 flyttalsverdier uniformt fordelt mellom 0 og 2*pi\n",
    "x2 = 3*cos(theta) \n",
    "y2 = 3*sin(theta)/sqrt(2)\n",
    "plt.figure(2)                  # Lager en ny figur\n",
    "plt.plot(x2, y2)               # Plotter en graf ut i fra x- og y koordinater i arrayene x2 og y2 med en connect-the-dots tilnærming\n",
    "plt.show()                     # Viser figuren"
   ]
  },
  {
   "cell_type": "markdown",
   "metadata": {
    "deletable": false,
    "editable": false,
    "nbgrader": {
     "cell_type": "markdown",
     "checksum": "25f309a540eb2bc7f886af4fce9cb2a4",
     "grade": false,
     "grade_id": "cell-ca819e3d6c8639dc",
     "locked": true,
     "schema_version": 3,
     "solution": false,
     "task": false
    }
   },
   "source": [
    "## a)\n",
    "\n",
    "Lag et script som vil generere et plot av en femkantet stjerne. Husk å bruke funksjonen `plt.figure()` til å lage en ny figur, ellers vil scriptet tegne en ny graf i forrige figur som ble laget, og stjernen vil antageligvis tegnes sammen med ellipsen."
   ]
  },
  {
   "cell_type": "code",
   "execution_count": null,
   "metadata": {
    "deletable": false,
    "nbgrader": {
     "cell_type": "code",
     "checksum": "6d04769751577863ed4074e36fb51ea0",
     "grade": true,
     "grade_id": "cell-89265f129c8640c2",
     "locked": false,
     "points": 1,
     "schema_version": 3,
     "solution": true,
     "task": false
    }
   },
   "outputs": [],
   "source": [
    "# FYLL INN KODELØSNING HER:"
   ]
  },
  {
   "cell_type": "markdown",
   "metadata": {
    "deletable": false,
    "editable": false,
    "nbgrader": {
     "cell_type": "markdown",
     "checksum": "ae5f256ac851ab4bb58d1b2c27244043",
     "grade": false,
     "grade_id": "cell-d7fb9ffd76f1bf80",
     "locked": true,
     "schema_version": 3,
     "solution": false,
     "task": false
    }
   },
   "source": [
    "__Tilleggsinformasjon:__\n",
    "\n",
    "Det er mange tilpasninger man kan gjøre for å legge til informasjon i et plot. Noen nyttige funksjoner gir muligheten til å legge til rutenett, og gi plot og akser tittel.\n",
    "\n",
    "```python\n",
    "plt.grid(True)         # Aktiverer rutenett\n",
    "plt.xlabel(\"x-akse\")   # Gir x-aksen en tittel\n",
    "plt.ylabel(\"y-akse\")   # Gir y-aksen en tittel\n",
    "ptl.title(\"Mitt Plot\") # Gir figuren en tittel\n",
    "```"
   ]
  },
  {
   "cell_type": "markdown",
   "metadata": {
    "deletable": false,
    "editable": false,
    "nbgrader": {
     "cell_type": "markdown",
     "checksum": "491ea9351f2bcb1ea7e5fb0845685688",
     "grade": false,
     "grade_id": "cell-8d6eae18129d1f2c",
     "locked": true,
     "schema_version": 3,
     "solution": false,
     "task": false
    }
   },
   "source": [
    "## b)\n",
    "Formelen for en dempet oscillasjon som funksjon av tid er gitt nedenfor:\n",
    "\n",
    "$$x(t) = 0.8^t \\cdot \\cos (2\\pi \\cdot 8 \\cdot t), \\ \\ \\ \\ \\ t \\geq 0$$\n",
    "\n",
    "* generer arrayene `t` og `xt` som vil representere funksjonen $x(t)$ for $0\\leq t < 5$. Arrayene skal ha 100 datapunkt per sekund.\n",
    "* lag et plot av signalet, aktiver rutenett i plotet, gi figuren navn på aksene og en tittel"
   ]
  },
  {
   "cell_type": "code",
   "execution_count": null,
   "metadata": {
    "deletable": false,
    "nbgrader": {
     "cell_type": "code",
     "checksum": "4a82274bbd89e6067274bc5cb00df746",
     "grade": true,
     "grade_id": "cell-a8d635ec94584639",
     "locked": false,
     "points": 2,
     "schema_version": 3,
     "solution": true,
     "task": false
    }
   },
   "outputs": [],
   "source": [
    "# FYLL INN KODELØSNING HER:"
   ]
  },
  {
   "cell_type": "markdown",
   "metadata": {
    "deletable": false,
    "editable": false,
    "nbgrader": {
     "cell_type": "markdown",
     "checksum": "9ab8f634d84a9c589f9a1bba78d62cc3",
     "grade": false,
     "grade_id": "cell-acbf48a2b2c8a77a",
     "locked": true,
     "schema_version": 3,
     "solution": false,
     "task": false
    }
   },
   "source": [
    "__Subplot:__\n",
    "\n",
    "Det kan ofte være aktuelt å framstille flere plot i samme figur slik at de kan studeres ved siden av hverandre. Til dette kan vi bruke funksjonen `subplot`, som deler opp en figur i et rutenett med mulige plot-felt. Ved bruk av subplot må man spesifisere antall rader, antall kolonner og aktiv posisjon som skal plottes i: `plt.subplot(rows, cols, pos)`. \n",
    "\n",
    "For eksempel vil funksjonskallet `plt.subplot(2,3,5)` dele opp en figur i 6 ruter fordelt på 2 rader og 3 kolonner, og aktivere rute nr. 5 slik tabellen illustrerer.\n",
    "\n",
    "| |  |  |\n",
    "| --- | --- | --- |\n",
    "| 1 | 2 | 3 |\n",
    "| 4 | [5] | 6 |"
   ]
  },
  {
   "cell_type": "markdown",
   "metadata": {
    "deletable": false,
    "editable": false,
    "nbgrader": {
     "cell_type": "markdown",
     "checksum": "01ff4f0de72c3b8b81860f8320794623",
     "grade": false,
     "grade_id": "cell-6ff6a6f4310f76e6",
     "locked": true,
     "points": 1,
     "schema_version": 3,
     "solution": false,
     "task": true
    }
   },
   "source": [
    "## c)\n",
    "Bygg videre på koden fra deloppgave __b__ slik at figuren viser to plot nedenfor hverandre. Den øverste skal være figuren fra oppgave __b__, og den nederste skal være et utklipp av den øverste figuren hvor vi har zoomet inn langs x-aksen. Plotet skal vise et utsnitt av signalet $x(t)$ for tidsintervallet $2.0 \\leq t < 2.75$. Dette kan for eksempel gjøres ved å velge ut en liten del av signalet med bruk av _list slicing_. Eksempel: `plt.plot(t[a:b], xt[a:b])`. "
   ]
  },
  {
   "cell_type": "markdown",
   "metadata": {
    "deletable": false,
    "editable": false,
    "nbgrader": {
     "cell_type": "markdown",
     "checksum": "11ff07ae584ceb926de80e18f2cdc6f7",
     "grade": false,
     "grade_id": "cell-8554014b79d50c4f",
     "locked": true,
     "schema_version": 3,
     "solution": false,
     "task": false
    }
   },
   "source": [
    "## d)\n",
    "Responsen (filtergain som funksjon av frekvens) $G(\\omega)$ til et førsteorden lavpass Butterworth filter er gitt ved følgende formel der $\\omega$ er frekvens gitt i rad/s:\n",
    "$$G(\\omega) = \\frac{1}{\\sqrt{1 + \\left(\\frac{\\omega}{\\omega_c} \\right) ^2 }}$$\n",
    "Filteregenskapene visualiseres typisk med et såkalt bode-plot hvor både x-akse og y-akse er i logaritmisk skala. En slik figur kan lages med bruk av funksjonen `loglog()` som er dokumentert [her](https://matplotlib.org/3.1.1/api/_as_gen/matplotlib.pyplot.loglog.html). Det er også en god idé å generere dataen som skal plottes i etter en logaritmisk fordelt array med vinkelfrekvenser $\\omega$. Enkleste måte å få til dette er med bruk av `logspace()`som er dokumentert [her](https://numpy.org/doc/stable/reference/generated/numpy.logspace.html), men det er også fullt mulig å bruke potensregning (`x_log = 10**linspace(-2, 3, 500)`).\n",
    "\n",
    "Generer et bode-plot av $G(\\omega$ der kantfrekvensen er $\\omega_c = \\pi$ rad/s. Du velger selv intervallet av $\\omega$ som skal vises, men det skal være mulig å tyde passbånd og roll-off fra figuren."
   ]
  },
  {
   "cell_type": "code",
   "execution_count": null,
   "metadata": {
    "deletable": false,
    "nbgrader": {
     "cell_type": "code",
     "checksum": "77351abd7c17603da6b1fc11c39f5d1e",
     "grade": true,
     "grade_id": "cell-6dcfaaaee1edb7ed",
     "locked": false,
     "points": 1,
     "schema_version": 3,
     "solution": true,
     "task": false
    }
   },
   "outputs": [],
   "source": [
    "# FYLL INN KODELØSNING HER:"
   ]
  },
  {
   "cell_type": "markdown",
   "metadata": {},
   "source": []
  }
 ],
 "metadata": {
  "kernelspec": {
   "display_name": "Python 3",
   "language": "python",
   "name": "python3"
  },
  "language_info": {
   "codemirror_mode": {
    "name": "ipython",
    "version": 3
   },
   "file_extension": ".py",
   "mimetype": "text/x-python",
   "name": "python",
   "nbconvert_exporter": "python",
   "pygments_lexer": "ipython3",
   "version": "3.7.7"
  }
 },
 "nbformat": 4,
 "nbformat_minor": 4
}

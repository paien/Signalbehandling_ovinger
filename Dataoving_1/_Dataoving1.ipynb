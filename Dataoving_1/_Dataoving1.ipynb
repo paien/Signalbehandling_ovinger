{
 "cells": [
  {
   "cell_type": "markdown",
   "metadata": {},
   "source": [
    "# Dataøving 1 - Introduksjon til Signalbehandling med Python\n",
    "\n",
    "### Relevant lesestoff: \n",
    "- Kapittel 1 i boka DSP First\n",
    "- [Numpy Quickstart Tutorial](https://numpy.org/devdocs/user/quickstart.html)\n",
    "\n",
    "### Forberedelser:\n",
    "- Ta med hodetelefoner. Vi skal lytte til audiosignal i enkelte av oppgavene.\n",
    "- Det forutsettes at studenten har oversikt over grunnleggende programmeringsprinsipp som aritmetiske operatorer, variabler, if-setninger, løkker, lister og funksjoner. Trenger du en oppfriskning kan du finne det [her].\n",
    "\n",
    "Oppgave | Tema \n",
    "--- | --- \n",
    "[Oppgave 1 - Fra matematiske rekkeuttrykk til python-kode](Oppgave1.ipynb) | Bruk av NumPy til å utføre matematiske operasjoner på tallrekker.\n",
    "[Oppgave 2 - Plotting av matematiske funksjoner](Oppgave2.ipynb) | Matplotlib for datavisualisering\n",
    "[Oppgave 3 - Plotting av flere datasett](Oppgave3.ipynb) | Matplotlib fortsettelse\n",
    "[Oppgave 4 - Analyse av Lydsignal](Oppgave4.ipynb) | Introduksjon til signalanalyse i tid og frekvens"
   ]
  }
 ],
 "metadata": {
  "kernelspec": {
   "display_name": "Python 3",
   "language": "python",
   "name": "python3"
  },
  "language_info": {
   "codemirror_mode": {
    "name": "ipython",
    "version": 3
   },
   "file_extension": ".py",
   "mimetype": "text/x-python",
   "name": "python",
   "nbconvert_exporter": "python",
   "pygments_lexer": "ipython3",
   "version": "3.7.7"
  }
 },
 "nbformat": 4,
 "nbformat_minor": 4
}

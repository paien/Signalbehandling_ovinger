{
 "cells": [
  {
   "cell_type": "markdown",
   "metadata": {},
   "source": [
    "<nav class=\"navbar navbar-default\">\n",
    "  <div class=\"container-fluid\">\n",
    "    <div class=\"navbar-header\">\n",
    "      <a class=\"navbar-brand\" href=\"_Dataoving1.ipynb\">Dataøving 1</a>\n",
    "    </div>\n",
    "    <ul class=\"nav navbar-nav\">\n",
    "        <li class=\"active\"><a href=\"Oppgave1.ipynb\">Oppgave 1 - Fra matematiske uttrykk til python-kode</a></li>\n",
    "        <li><a href=\"Oppgave2.ipynb\">Oppgave 2 - Plotting av matematiske funksjoner</a></li>\n",
    "        <li><a href=\"Oppgave3.ipynb\">Oppgave 3 - Plotting av flere datasett</a></li>\n",
    "        <li><a href=\"Oppgave4.ipynb\">Oppgave 4 - Analyse av lydsignal</a></li>\n",
    "    </ul>\n",
    "  </div>\n",
    "</nav>\n",
    "\n",
    "# Fra matematiske uttrykk til python-kode\n",
    "\n",
    "__Læringsmål__:\n",
    "* Bli kjent med numpy-klassen ndarray\n",
    "* Være i stand til å generere en tallrekke med utgangspunkt i et matematisk funksjonsuttrykk"
   ]
  },
  {
   "cell_type": "markdown",
   "metadata": {
    "deletable": false,
    "editable": false,
    "nbgrader": {
     "cell_type": "markdown",
     "checksum": "9277f764546395dfa4264a7e0608edde",
     "grade": false,
     "grade_id": "cell-a75aa7fd6cafe3dc",
     "locked": true,
     "schema_version": 3,
     "solution": false,
     "task": false
    }
   },
   "source": [
    "## Digitale Signal som tallrekker\n",
    "\n",
    "Enhver serie med innsamlet data over tid kan anses som et digitalt signal. Et eksempel på dette kunne vært følgende korte serie med vindstyrke-målinger:\n",
    "```python\n",
    "t = [0, 10, 20, 30, 40, 50]   # Måletidspunkt i sekund\n",
    "vt = [3, 2, 5, 1, 2, 8]       # Vindstyrke målt i m/s \n",
    "```\n",
    "Her har vi altså to lister, hvor den éne er en serie med måletidspunkt `t`, og den andre er en serie med vindstyrkemålinger `vt` tatt i tidspunktene angitt i listen `t`. Intervallet mellom målinger ser vi er 10 sekund. I signalbehandling sier vi at listen `vt` er et _digitalt signal_ med _samplingsperiode_ lik $T_s = 10s$. I denne oppgaven skal vi utforske et bibliotek som forenkler håndteringen av signal i denne formen.\n",
    "\n",
    "## NumPy - et bibliotek for behandling av multidimensjonale tabeller.\n",
    "\n",
    "I Digitale Signalbehandling kommer vi ofte til å bruke matematiske utregninger til å manipulere eller generere et signal. Eksempler på dette kan være å lage en sinusbølge, eller multiplisere ett signal med et annet signal. La oss si at vi vil generere tallrekken som er gitt ved det matematiske uttrykket nedenfor:\n",
    "$$x[n] = 2^n, \\ \\ \\ n\\in \\{0, 1, 2, 3, 4, 5, 6, 7, 8, 9\\}$$\n",
    "Med vanlige listeoperasjoner kan dette utføres med bruk av en for-løkke:\n",
    "```python\n",
    "xn = []             # Initialiser en tom liste\n",
    "for n in range(10): # Iterer over alle heltall fra 0 til 9\n",
    "    xn.append(2**n) # Regn ut hvert element og legg til på slutten av listen\n",
    "```\n",
    "\n",
    "Når man skal utføre komplekse matematiske operasjoner med digitale signal, så kan det være tungvindt og uoversiktlig å måtte ta i bruk en for-løkke hver gang man skal utføre samme kalkulasjon med hvert element i en liste. Det er her biblioteket `numpy` kommer inn i bildet. Numpy introduserer en \"universalklasse\" for multidimensjonale tabeller med navnet `ndarray`, som er sentralt for hele biblioteket. Den aller viktigste egenskapen til denne klassen er at den tillater __*elementvise operasjoner*__. Med bruk av `numpy` kan dermed utregningen ovenfor enkelt utføres med følgende kode:\n",
    "```python\n",
    "from numpy import arange  \n",
    "n = arange(10)            # Generer en ndarray for heltallene \"n\"\n",
    "xn = 2**n                 # Elementvis utregning av eksponentialer med vanlig potens-operator\n",
    "```\n",
    "\n",
    "`arange(10)` tilsvarer i grunn `list(range(10))`, men returnerer en 1x10 `ndarray` istedenfor en 10-elements liste. Her ser vi at når vi først har generert en array med heltalsverdiene $n$, kan vi anvende det med vanlige matematiske operatorer til å generere nye arrays ut ifra et funksjonsuttrykk. \n",
    "\n",
    "Det er også verdt å nevne at `numpy` inneholder egne funksjoner for elementvis utregning av matematiske funksjoner som `sin()`, `cos()`, `exp()`, `sqrt()`, `log()` osv. Mer detaljert informasjon finner du [her](https://numpy.org/devdocs/user/quickstart.html).\n",
    "\n",
    "__Nedenfor er en kodecelle som importerer en rekke funksjonaliteter fra biblioteket numpy. Husk å kjøre denne cellen før du begynner på deloppgavene.__"
   ]
  },
  {
   "cell_type": "code",
   "execution_count": null,
   "metadata": {
    "deletable": false,
    "editable": false,
    "nbgrader": {
     "cell_type": "code",
     "checksum": "2346c411c17c94f1e1830c64e77fc210",
     "grade": false,
     "grade_id": "cell-8305ab049788e609",
     "locked": true,
     "schema_version": 3,
     "solution": false,
     "task": false
    }
   },
   "outputs": [],
   "source": [
    "from numpy import array, arange, sin, cos, exp, sqrt, log, pi"
   ]
  },
  {
   "cell_type": "markdown",
   "metadata": {
    "deletable": false,
    "editable": false,
    "nbgrader": {
     "cell_type": "markdown",
     "checksum": "9901054fd261ad3a21f4a38f4141a9d0",
     "grade": false,
     "grade_id": "cell-477eacf4df557884",
     "locked": true,
     "schema_version": 3,
     "solution": false,
     "task": false
    }
   },
   "source": [
    "## a)\n",
    "Generer en array som realiserer denne rekken, hvor \"n\" er indeksverdien. Gi gjerne radvektoren variabelnavnet `xn1`, og skriv ut innholdet med `print()` funksjonen.\n",
    "$$x_1[n] = \\frac{1}{2}\\cdot n^2 + 2\\cdot n -3, \\ \\ \\ \\ \\ n \\in \\{0, 1, 2, 3, 4, 5, 6 ,7 ,8, 9\\}$$"
   ]
  },
  {
   "cell_type": "code",
   "execution_count": null,
   "metadata": {
    "deletable": false,
    "nbgrader": {
     "cell_type": "code",
     "checksum": "8d516781c96f00ac2eac82099f51439b",
     "grade": true,
     "grade_id": "cell-bc77d85794894ad9",
     "locked": false,
     "points": 1,
     "schema_version": 3,
     "solution": true,
     "task": false
    }
   },
   "outputs": [],
   "source": [
    "# FYLL INN KODELØSNING HER:"
   ]
  },
  {
   "cell_type": "markdown",
   "metadata": {
    "deletable": false,
    "editable": false,
    "nbgrader": {
     "cell_type": "markdown",
     "checksum": "167fe1e89db6273b62ef7400506ba763",
     "grade": false,
     "grade_id": "cell-9670d386bda8d548",
     "locked": true,
     "schema_version": 3,
     "solution": false,
     "task": false
    }
   },
   "source": [
    "__Riktig Utskrift:__\\\n",
    "`[-3.  -0.5  3.   7.5 13.  19.5 27.  35.5 45.  55.5]`"
   ]
  },
  {
   "cell_type": "markdown",
   "metadata": {
    "deletable": false,
    "editable": false,
    "nbgrader": {
     "cell_type": "markdown",
     "checksum": "5d7cca46df19ed2ad94cd06048817f56",
     "grade": false,
     "grade_id": "cell-cd8650295706c28e",
     "locked": true,
     "schema_version": 3,
     "solution": false,
     "task": false
    }
   },
   "source": [
    "## b)\n",
    "Lag en ny array `xn2` som følger progresjonen genererer de angitte elementene i den geometriske rekken, og skriv ut innholdet med `print()` funksjonen.\n",
    "$$x_2[n] = 0.64^{\\frac{n}{2}}, \\ \\ \\ \\ \\ n \\in \\{0, 1, 2, 3, 4, 5, 6 ,7 ,8, 9\\}$$"
   ]
  },
  {
   "cell_type": "code",
   "execution_count": null,
   "metadata": {
    "deletable": false,
    "nbgrader": {
     "cell_type": "code",
     "checksum": "6f9311e68421ecf42b6827f7a20261cc",
     "grade": true,
     "grade_id": "cell-70d7f44767a821eb",
     "locked": false,
     "points": 1,
     "schema_version": 3,
     "solution": true,
     "task": false
    }
   },
   "outputs": [],
   "source": [
    "# FYLL INN KODELØSNING HER:"
   ]
  },
  {
   "cell_type": "markdown",
   "metadata": {
    "deletable": false,
    "editable": false,
    "nbgrader": {
     "cell_type": "markdown",
     "checksum": "2112fa42800e9b47252755721d115070",
     "grade": false,
     "grade_id": "cell-2abae24a38f52c41",
     "locked": true,
     "schema_version": 3,
     "solution": false,
     "task": false
    }
   },
   "source": [
    "__Riktig Utskrift:__\\\n",
    "`[1.         0.92736185 0.86       0.79753119 0.7396     0.68587682\n",
    " 0.636056   0.58985407 0.54700816 0.5072745 ]`"
   ]
  },
  {
   "cell_type": "markdown",
   "metadata": {
    "deletable": false,
    "editable": false,
    "nbgrader": {
     "cell_type": "markdown",
     "checksum": "44cf4c26818b11d53d54a003897bed34",
     "grade": false,
     "grade_id": "cell-9c1ded6eb9833384",
     "locked": true,
     "schema_version": 3,
     "solution": false,
     "task": false
    }
   },
   "source": [
    "## c)\n",
    "Lag en ny array `xn3` som følger sinussekvensen, og skriv ut innholdet med `print()` funksjonen.\n",
    "$$x_3[n] = \\cos \\left( \\frac{\\pi \\cdot n}{11} + \\frac{\\pi}{6} \\right), \\ \\ \\ \\ \\ n \\in \\{0, 1, 2, 3, 4, 5, 6 ,7 ,8, 9\\}$$"
   ]
  },
  {
   "cell_type": "code",
   "execution_count": null,
   "metadata": {
    "deletable": false,
    "nbgrader": {
     "cell_type": "code",
     "checksum": "c9deafc59f52b8b19962cd4bed70cb9d",
     "grade": true,
     "grade_id": "cell-15eca99af61f183d",
     "locked": false,
     "points": 1,
     "schema_version": 3,
     "solution": true,
     "task": false
    }
   },
   "outputs": [],
   "source": [
    "# FYLL INN KODELØSNING HER:"
   ]
  },
  {
   "cell_type": "markdown",
   "metadata": {
    "deletable": false,
    "editable": false,
    "nbgrader": {
     "cell_type": "markdown",
     "checksum": "16ed4e15d633f08838293797bcc3c122",
     "grade": false,
     "grade_id": "cell-906d0dde02e240eb",
     "locked": true,
     "schema_version": 3,
     "solution": false,
     "task": false
    }
   },
   "source": [
    "__Riktig Utskrift:__\\\n",
    "`[ 0.8660254   0.69007901  0.45822652  0.18925124 -0.09505604 -0.37166246\n",
    " -0.61815899 -0.81457595 -0.94500082 -0.99886734]`"
   ]
  },
  {
   "cell_type": "markdown",
   "metadata": {
    "deletable": false,
    "editable": false,
    "nbgrader": {
     "cell_type": "markdown",
     "checksum": "e6bc2cb269a181eb6f7020cdd4be2161",
     "grade": false,
     "grade_id": "cell-5fec93e0aee077c3",
     "locked": true,
     "schema_version": 3,
     "solution": false,
     "task": false
    }
   },
   "source": [
    "## d) \n",
    "Lag en array `xn4` som er _produktet_ av `xn2`og `xn3`, og skriv ut innholdet med `print()` funksjonen.\n",
    "$$x_4[n] = x_2[n] \\cdot x_3[n], \\ \\ \\ \\ \\ n \\in \\{0, 1, 2, 3, 4, 5, 6 ,7 ,8, 9\\}$$"
   ]
  },
  {
   "cell_type": "code",
   "execution_count": null,
   "metadata": {
    "deletable": false,
    "nbgrader": {
     "cell_type": "code",
     "checksum": "671f114db34316f5093010128afbd2ee",
     "grade": true,
     "grade_id": "cell-23f9f83e86dc73f3",
     "locked": false,
     "points": 1,
     "schema_version": 3,
     "solution": true,
     "task": false
    }
   },
   "outputs": [],
   "source": [
    "# FYLL INN KODELØSNING HER:"
   ]
  },
  {
   "cell_type": "markdown",
   "metadata": {
    "deletable": false,
    "editable": false,
    "nbgrader": {
     "cell_type": "markdown",
     "checksum": "5b699e1fcaae1fc2aec9a8d05bf665a5",
     "grade": false,
     "grade_id": "cell-c23717dcb39168eb",
     "locked": true,
     "schema_version": 3,
     "solution": false,
     "task": false
    }
   },
   "source": [
    "__Riktig Utskrift:__\\\n",
    "`[ 0.8660254   0.63995295  0.39407481  0.15093377 -0.07030345 -0.25491466\n",
    " -0.39318373 -0.48048094 -0.51692316 -0.50669993]`"
   ]
  }
 ],
 "metadata": {
  "kernelspec": {
   "display_name": "Python 3",
   "language": "python",
   "name": "python3"
  },
  "language_info": {
   "codemirror_mode": {
    "name": "ipython",
    "version": 3
   },
   "file_extension": ".py",
   "mimetype": "text/x-python",
   "name": "python",
   "nbconvert_exporter": "python",
   "pygments_lexer": "ipython3",
   "version": "3.7.7"
  }
 },
 "nbformat": 4,
 "nbformat_minor": 4
}
